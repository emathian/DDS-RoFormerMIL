{
 "cells": [
  {
   "cell_type": "code",
   "execution_count": 4,
   "metadata": {},
   "outputs": [],
   "source": [
    "import cudf\n",
    "import os"
   ]
  },
  {
   "cell_type": "code",
   "execution_count": 11,
   "metadata": {},
   "outputs": [],
   "source": [
    "root = \"/home/mathiane/LNENWork/LNEN_Molecular_groups_barlow_twin_z128_230124/projector/concat_proj_by_patient\"\n",
    "bt_proj_concat_all = cudf.DataFrame()\n",
    "for ele in os.listdir(root):\n",
    "    if ele.find(\"TNE\")!= -1:\n",
    "        bt_proj_c= cudf.read_csv(f\"{root}/{ele}\")\n",
    "        bt_proj_concat_all = cudf.concat([bt_proj_concat_all, bt_proj_c], ignore_index=True)\n",
    "    "
   ]
  },
  {
   "cell_type": "code",
   "execution_count": 14,
   "metadata": {},
   "outputs": [
    {
     "data": {
      "text/plain": [
       "(4917726, 130)"
      ]
     },
     "execution_count": 14,
     "metadata": {},
     "output_type": "execute_result"
    }
   ],
   "source": [
    "bt_proj_concat_all.shape"
   ]
  },
  {
   "cell_type": "code",
   "execution_count": 18,
   "metadata": {},
   "outputs": [],
   "source": [
    "bt_proj_concat_all.to_pandas().to_csv(\"/home/mathiane/LNENWork/LNEN_Molecular_groups_barlow_twin_z128_230124/projector/concat_proj_by_patient/barlowTwins_trainset_z128_all_projectors.csv\")"
   ]
  },
  {
   "cell_type": "code",
   "execution_count": null,
   "metadata": {},
   "outputs": [],
   "source": []
  }
 ],
 "metadata": {
  "kernelspec": {
   "display_name": "cuGraph_Leiden",
   "language": "python",
   "name": "python3"
  },
  "language_info": {
   "codemirror_mode": {
    "name": "ipython",
    "version": 3
   },
   "file_extension": ".py",
   "mimetype": "text/x-python",
   "name": "python",
   "nbconvert_exporter": "python",
   "pygments_lexer": "ipython3",
   "version": "3.10.13"
  }
 },
 "nbformat": 4,
 "nbformat_minor": 2
}
