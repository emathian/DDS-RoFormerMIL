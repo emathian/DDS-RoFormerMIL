{
 "cells": [
  {
   "cell_type": "code",
   "execution_count": 40,
   "metadata": {},
   "outputs": [],
   "source": [
    "import matplotlib.pyplot as plt\n",
    "import matplotlib.colors\n",
    "import numpy as np\n",
    "import os\n",
    "import cv2\n",
    "import pandas as pd\n",
    "import argparse\n",
    "import shutil\n",
    "import seaborn as sns\n",
    "import json\n",
    "import h5py\n",
    "import glob\n",
    "from sklearn.metrics import roc_auc_score, average_precision_score, roc_curve, accuracy_score, precision_score, recall_score\n",
    "from scipy import stats"
   ]
  },
  {
   "cell_type": "markdown",
   "metadata": {},
   "source": [
    "## Arglines"
   ]
  },
  {
   "cell_type": "code",
   "execution_count": 41,
   "metadata": {},
   "outputs": [],
   "source": [
    "args = dict()\n",
    "sample_id = \"TNE0954\"\n",
    "ResExpRoformerFormat = \"/home/mathiane/LNENWork/data_RoFormerMIL_CaA1CaA2_norm/dataRoFormer/script_analysis/unbeat_steed_2024_04_11_21-24\"\n",
    "FolderAttnMaps = \"attn_maps_formated\"\n",
    "VizAttnMaps = \"viz_attn_maps\"\n",
    "args['folder_tumoral_tiles'] ='/home/mathiane/LNENWork/Tiles_HE_all_samples_384_384_Vahadane_2'\n",
    "args['folder_WSI_jpg'] =  '/home/mathiane/LNENWork/FullSlidesToJpeg'\n",
    "im_size = 384"
   ]
  },
  {
   "cell_type": "code",
   "execution_count": null,
   "metadata": {},
   "outputs": [],
   "source": [
    "os.makedirs(f'{ResExpRoformerFormat}/{VizAttnMaps}',exist_ok=True)\n",
    "os.makedirs(f'{ResExpRoformerFormat}/{VizAttnMaps}/PredA1_TruthA1',exist_ok=True)\n",
    "os.makedirs(f'{ResExpRoformerFormat}/{VizAttnMaps}/PredA2_TruthA2',exist_ok=True)\n",
    "os.makedirs(f'{ResExpRoformerFormat}/{VizAttnMaps}/PredA1_TruthA2',exist_ok=True)\n",
    "os.makedirs(f'{ResExpRoformerFormat}/{VizAttnMaps}/PredA2_TruthA1',exist_ok=True)\n"
   ]
  },
  {
   "cell_type": "markdown",
   "metadata": {},
   "source": [
    "## Get predictions"
   ]
  },
  {
   "cell_type": "code",
   "execution_count": 4,
   "metadata": {},
   "outputs": [],
   "source": [
    "df_res = pd.read_csv(\"/home/mathiane/LNENWork/data_RoFormerMIL_CaA1CaA2_norm/dataRoFormer/script_analysis/unbeat_steed_2024_04_11_21-24/predictions_all_test_folds.csv\")"
   ]
  },
  {
   "cell_type": "code",
   "execution_count": 13,
   "metadata": {},
   "outputs": [
    {
     "data": {
      "text/html": [
       "<div>\n",
       "<style scoped>\n",
       "    .dataframe tbody tr th:only-of-type {\n",
       "        vertical-align: middle;\n",
       "    }\n",
       "\n",
       "    .dataframe tbody tr th {\n",
       "        vertical-align: top;\n",
       "    }\n",
       "\n",
       "    .dataframe thead th {\n",
       "        text-align: right;\n",
       "    }\n",
       "</style>\n",
       "<table border=\"1\" class=\"dataframe\">\n",
       "  <thead>\n",
       "    <tr style=\"text-align: right;\">\n",
       "      <th></th>\n",
       "      <th>slide_id</th>\n",
       "      <th>preds</th>\n",
       "      <th>labels</th>\n",
       "      <th>probas</th>\n",
       "      <th>A1</th>\n",
       "      <th>A2</th>\n",
       "      <th>labels_names</th>\n",
       "    </tr>\n",
       "  </thead>\n",
       "  <tbody>\n",
       "    <tr>\n",
       "      <th>0</th>\n",
       "      <td>TNE0954</td>\n",
       "      <td>1</td>\n",
       "      <td>1</td>\n",
       "      <td>[0.16779745 0.83220261]</td>\n",
       "      <td>0.167797</td>\n",
       "      <td>0.832203</td>\n",
       "      <td>CaA2</td>\n",
       "    </tr>\n",
       "  </tbody>\n",
       "</table>\n",
       "</div>"
      ],
      "text/plain": [
       "  slide_id  preds  labels                   probas        A1        A2  \\\n",
       "0  TNE0954      1       1  [0.16779745 0.83220261]  0.167797  0.832203   \n",
       "\n",
       "  labels_names  \n",
       "0         CaA2  "
      ]
     },
     "execution_count": 13,
     "metadata": {},
     "output_type": "execute_result"
    }
   ],
   "source": [
    "df_res_samples_id"
   ]
  },
  {
   "cell_type": "code",
   "execution_count": 12,
   "metadata": {},
   "outputs": [],
   "source": [
    "df_res_samples_id = df_res[df_res[\"slide_id\"]== sample_id]"
   ]
  },
  {
   "cell_type": "code",
   "execution_count": 25,
   "metadata": {},
   "outputs": [],
   "source": [
    "attn_scores = pd.read_csv(f\"{ResExpRoformerFormat}/{FolderAttnMaps}/AttnScores_{sample_id}.csv\")"
   ]
  },
  {
   "cell_type": "code",
   "execution_count": 28,
   "metadata": {},
   "outputs": [
    {
     "data": {
      "text/html": [
       "<div>\n",
       "<style scoped>\n",
       "    .dataframe tbody tr th:only-of-type {\n",
       "        vertical-align: middle;\n",
       "    }\n",
       "\n",
       "    .dataframe tbody tr th {\n",
       "        vertical-align: top;\n",
       "    }\n",
       "\n",
       "    .dataframe thead th {\n",
       "        text-align: right;\n",
       "    }\n",
       "</style>\n",
       "<table border=\"1\" class=\"dataframe\">\n",
       "  <thead>\n",
       "    <tr style=\"text-align: right;\">\n",
       "      <th></th>\n",
       "      <th>attn_scores_a1</th>\n",
       "      <th>attn_scores_a2</th>\n",
       "      <th>x_rank</th>\n",
       "      <th>y_rank</th>\n",
       "      <th>img_id_c</th>\n",
       "      <th>x</th>\n",
       "      <th>y</th>\n",
       "      <th>tne_id</th>\n",
       "      <th>labels_names</th>\n",
       "      <th>Probs_A1</th>\n",
       "      <th>Probs_A2</th>\n",
       "      <th>preds_roformer</th>\n",
       "    </tr>\n",
       "  </thead>\n",
       "  <tbody>\n",
       "    <tr>\n",
       "      <th>0</th>\n",
       "      <td>0.000048</td>\n",
       "      <td>0.000058</td>\n",
       "      <td>0</td>\n",
       "      <td>19546</td>\n",
       "      <td>TNE0954_1_62593</td>\n",
       "      <td>1</td>\n",
       "      <td>62593</td>\n",
       "      <td>TNE0954</td>\n",
       "      <td>CaA2</td>\n",
       "      <td>0.167797</td>\n",
       "      <td>0.832203</td>\n",
       "      <td>1</td>\n",
       "    </tr>\n",
       "    <tr>\n",
       "      <th>1</th>\n",
       "      <td>0.000051</td>\n",
       "      <td>0.000059</td>\n",
       "      <td>1</td>\n",
       "      <td>19546</td>\n",
       "      <td>TNE0954_385_62593</td>\n",
       "      <td>385</td>\n",
       "      <td>62593</td>\n",
       "      <td>TNE0954</td>\n",
       "      <td>CaA2</td>\n",
       "      <td>0.167797</td>\n",
       "      <td>0.832203</td>\n",
       "      <td>1</td>\n",
       "    </tr>\n",
       "    <tr>\n",
       "      <th>2</th>\n",
       "      <td>0.000049</td>\n",
       "      <td>0.000059</td>\n",
       "      <td>2</td>\n",
       "      <td>19546</td>\n",
       "      <td>TNE0954_769_62593</td>\n",
       "      <td>769</td>\n",
       "      <td>62593</td>\n",
       "      <td>TNE0954</td>\n",
       "      <td>CaA2</td>\n",
       "      <td>0.167797</td>\n",
       "      <td>0.832203</td>\n",
       "      <td>1</td>\n",
       "    </tr>\n",
       "    <tr>\n",
       "      <th>3</th>\n",
       "      <td>0.000049</td>\n",
       "      <td>0.000056</td>\n",
       "      <td>3</td>\n",
       "      <td>19546</td>\n",
       "      <td>TNE0954_1153_62593</td>\n",
       "      <td>1153</td>\n",
       "      <td>62593</td>\n",
       "      <td>TNE0954</td>\n",
       "      <td>CaA2</td>\n",
       "      <td>0.167797</td>\n",
       "      <td>0.832203</td>\n",
       "      <td>1</td>\n",
       "    </tr>\n",
       "    <tr>\n",
       "      <th>4</th>\n",
       "      <td>0.000048</td>\n",
       "      <td>0.000065</td>\n",
       "      <td>4</td>\n",
       "      <td>12708</td>\n",
       "      <td>TNE0954_1537_31489</td>\n",
       "      <td>1537</td>\n",
       "      <td>31489</td>\n",
       "      <td>TNE0954</td>\n",
       "      <td>CaA2</td>\n",
       "      <td>0.167797</td>\n",
       "      <td>0.832203</td>\n",
       "      <td>1</td>\n",
       "    </tr>\n",
       "  </tbody>\n",
       "</table>\n",
       "</div>"
      ],
      "text/plain": [
       "   attn_scores_a1  attn_scores_a2  x_rank  y_rank            img_id_c     x  \\\n",
       "0        0.000048        0.000058       0   19546     TNE0954_1_62593     1   \n",
       "1        0.000051        0.000059       1   19546   TNE0954_385_62593   385   \n",
       "2        0.000049        0.000059       2   19546   TNE0954_769_62593   769   \n",
       "3        0.000049        0.000056       3   19546  TNE0954_1153_62593  1153   \n",
       "4        0.000048        0.000065       4   12708  TNE0954_1537_31489  1537   \n",
       "\n",
       "       y   tne_id labels_names  Probs_A1  Probs_A2  preds_roformer  \n",
       "0  62593  TNE0954         CaA2  0.167797  0.832203               1  \n",
       "1  62593  TNE0954         CaA2  0.167797  0.832203               1  \n",
       "2  62593  TNE0954         CaA2  0.167797  0.832203               1  \n",
       "3  62593  TNE0954         CaA2  0.167797  0.832203               1  \n",
       "4  31489  TNE0954         CaA2  0.167797  0.832203               1  "
      ]
     },
     "execution_count": 28,
     "metadata": {},
     "output_type": "execute_result"
    }
   ],
   "source": [
    "attn_scores.head()"
   ]
  },
  {
   "cell_type": "code",
   "execution_count": 27,
   "metadata": {},
   "outputs": [],
   "source": [
    "attn_scores = attn_scores.assign(labels_names = np.repeat(df_res_samples_id[\"labels_names\"].values[0], attn_scores.shape[0]))\n",
    "attn_scores = attn_scores.assign(Probs_A1 = np.repeat(df_res_samples_id[\"A1\"].values[0], attn_scores.shape[0]))\n",
    "attn_scores = attn_scores.assign(Probs_A2 = np.repeat(df_res_samples_id[\"A2\"].values[0], attn_scores.shape[0]))\n",
    "attn_scores = attn_scores.assign(preds_roformer = np.repeat(df_res_samples_id[\"preds\"].values[0], attn_scores.shape[0]))"
   ]
  },
  {
   "cell_type": "code",
   "execution_count": 29,
   "metadata": {},
   "outputs": [],
   "source": [
    "Q1_A1 = attn_scores[\"attn_scores_a1\"].quantile(0.01)\n",
    "Q9_A1 = attn_scores[\"attn_scores_a1\"].quantile(0.99)\n",
    "\n",
    "Q1_A2 = attn_scores[\"attn_scores_a2\"].quantile(0.01)\n",
    "Q9_A2 = attn_scores[\"attn_scores_a2\"].quantile(0.99)"
   ]
  },
  {
   "cell_type": "code",
   "execution_count": 31,
   "metadata": {},
   "outputs": [
    {
     "data": {
      "text/plain": [
       "'TNE0954'"
      ]
     },
     "execution_count": 31,
     "metadata": {},
     "output_type": "execute_result"
    }
   ],
   "source": [
    "## Get Tiles folder names\n",
    "path_main_TNE = args[\"folder_tumoral_tiles\"]\n",
    "for f in os.listdir(path_main_TNE):\n",
    "    if f.find(sample_id) != -1:\n",
    "        folder_name = f\n",
    "        break\n",
    "folder_name"
   ]
  },
  {
   "cell_type": "code",
   "execution_count": 39,
   "metadata": {},
   "outputs": [
    {
     "data": {
      "text/plain": [
       "{'TNE0954': [95233, 62593]}"
      ]
     },
     "execution_count": 39,
     "metadata": {},
     "output_type": "execute_result"
    }
   ],
   "source": [
    "## Get max tiles\n",
    "sample_maxX_maxY = {}\n",
    "path_main_TNE = args[\"folder_tumoral_tiles\"]#args.path_tne_tiles\n",
    "sample = sample_id\n",
    "\n",
    "sample_folder = os.path.join(path_main_TNE, folder_name)\n",
    "\n",
    "xmax = 0\n",
    "ymax = 0\n",
    "for folder in os.listdir(sample_folder):\n",
    "    tiles_p = os.path.join(path_main_TNE, folder_name, folder)\n",
    "    for tiles_l in os.listdir(tiles_p):\n",
    "        xmax_c = int(tiles_l.split('_')[1])\n",
    "        ymax_c  = int(tiles_l.split('_')[2].split('.')[0])\n",
    "        if xmax < xmax_c:\n",
    "            xmax = xmax_c\n",
    "        else:\n",
    "            xmax = xmax\n",
    "        if ymax < ymax_c:\n",
    "            ymax = ymax_c\n",
    "        else:\n",
    "            ymax = ymax\n",
    "\n",
    "sample_maxX_maxY[sample] = [xmax, ymax]\n",
    "sample_maxX_maxY\n",
    "    "
   ]
  },
  {
   "cell_type": "code",
   "execution_count": 43,
   "metadata": {},
   "outputs": [],
   "source": [
    "## Get path to overview WSI\n",
    "full_LNEN_WSI = args['folder_WSI_jpg']\n",
    "for f in  os.listdir(full_LNEN_WSI):\n",
    "\n",
    "    if f.find(sample_id[:7]) != -1:\n",
    "        folder_name_full_size = f\n",
    "        break"
   ]
  },
  {
   "cell_type": "code",
   "execution_count": 45,
   "metadata": {},
   "outputs": [],
   "source": [
    "# Create empty output matrix\n",
    "for k in sample_maxX_maxY.keys():\n",
    "    w =  tuple(sample_maxX_maxY[k])[0] + im_size\n",
    "    h = tuple(sample_maxX_maxY[k])[1] + im_size        \n",
    "    seq = im_size\n",
    "    W = len(list(range(1, w, seq)))\n",
    "    H = len(list(range(1, h, seq)))\n",
    "    \n",
    "    mat_prob_A1 =   np.empty((W*30, H*30))#-1\n",
    "    mat_prob_A1[:] =  np.NaN\n",
    "    \n",
    "    mat_prob_A2 = np.empty((W*30, H*30))#-1\n",
    "    mat_prob_A2[:] =  np.NaN\n",
    "\n",
    "        \n",
    "df_test_pred_s = attn_scores\n",
    "        "
   ]
  },
  {
   "cell_type": "code",
   "execution_count": 46,
   "metadata": {},
   "outputs": [
    {
     "data": {
      "text/html": [
       "<div>\n",
       "<style scoped>\n",
       "    .dataframe tbody tr th:only-of-type {\n",
       "        vertical-align: middle;\n",
       "    }\n",
       "\n",
       "    .dataframe tbody tr th {\n",
       "        vertical-align: top;\n",
       "    }\n",
       "\n",
       "    .dataframe thead th {\n",
       "        text-align: right;\n",
       "    }\n",
       "</style>\n",
       "<table border=\"1\" class=\"dataframe\">\n",
       "  <thead>\n",
       "    <tr style=\"text-align: right;\">\n",
       "      <th></th>\n",
       "      <th>attn_scores_a1</th>\n",
       "      <th>attn_scores_a2</th>\n",
       "      <th>x_rank</th>\n",
       "      <th>y_rank</th>\n",
       "      <th>img_id_c</th>\n",
       "      <th>x</th>\n",
       "      <th>y</th>\n",
       "      <th>tne_id</th>\n",
       "      <th>labels_names</th>\n",
       "      <th>Probs_A1</th>\n",
       "      <th>Probs_A2</th>\n",
       "      <th>preds_roformer</th>\n",
       "    </tr>\n",
       "  </thead>\n",
       "  <tbody>\n",
       "    <tr>\n",
       "      <th>0</th>\n",
       "      <td>0.000048</td>\n",
       "      <td>0.000058</td>\n",
       "      <td>0</td>\n",
       "      <td>19546</td>\n",
       "      <td>TNE0954_1_62593</td>\n",
       "      <td>1</td>\n",
       "      <td>62593</td>\n",
       "      <td>TNE0954</td>\n",
       "      <td>CaA2</td>\n",
       "      <td>0.167797</td>\n",
       "      <td>0.832203</td>\n",
       "      <td>1</td>\n",
       "    </tr>\n",
       "    <tr>\n",
       "      <th>1</th>\n",
       "      <td>0.000051</td>\n",
       "      <td>0.000059</td>\n",
       "      <td>1</td>\n",
       "      <td>19546</td>\n",
       "      <td>TNE0954_385_62593</td>\n",
       "      <td>385</td>\n",
       "      <td>62593</td>\n",
       "      <td>TNE0954</td>\n",
       "      <td>CaA2</td>\n",
       "      <td>0.167797</td>\n",
       "      <td>0.832203</td>\n",
       "      <td>1</td>\n",
       "    </tr>\n",
       "    <tr>\n",
       "      <th>2</th>\n",
       "      <td>0.000049</td>\n",
       "      <td>0.000059</td>\n",
       "      <td>2</td>\n",
       "      <td>19546</td>\n",
       "      <td>TNE0954_769_62593</td>\n",
       "      <td>769</td>\n",
       "      <td>62593</td>\n",
       "      <td>TNE0954</td>\n",
       "      <td>CaA2</td>\n",
       "      <td>0.167797</td>\n",
       "      <td>0.832203</td>\n",
       "      <td>1</td>\n",
       "    </tr>\n",
       "    <tr>\n",
       "      <th>3</th>\n",
       "      <td>0.000049</td>\n",
       "      <td>0.000056</td>\n",
       "      <td>3</td>\n",
       "      <td>19546</td>\n",
       "      <td>TNE0954_1153_62593</td>\n",
       "      <td>1153</td>\n",
       "      <td>62593</td>\n",
       "      <td>TNE0954</td>\n",
       "      <td>CaA2</td>\n",
       "      <td>0.167797</td>\n",
       "      <td>0.832203</td>\n",
       "      <td>1</td>\n",
       "    </tr>\n",
       "    <tr>\n",
       "      <th>4</th>\n",
       "      <td>0.000048</td>\n",
       "      <td>0.000065</td>\n",
       "      <td>4</td>\n",
       "      <td>12708</td>\n",
       "      <td>TNE0954_1537_31489</td>\n",
       "      <td>1537</td>\n",
       "      <td>31489</td>\n",
       "      <td>TNE0954</td>\n",
       "      <td>CaA2</td>\n",
       "      <td>0.167797</td>\n",
       "      <td>0.832203</td>\n",
       "      <td>1</td>\n",
       "    </tr>\n",
       "    <tr>\n",
       "      <th>...</th>\n",
       "      <td>...</td>\n",
       "      <td>...</td>\n",
       "      <td>...</td>\n",
       "      <td>...</td>\n",
       "      <td>...</td>\n",
       "      <td>...</td>\n",
       "      <td>...</td>\n",
       "      <td>...</td>\n",
       "      <td>...</td>\n",
       "      <td>...</td>\n",
       "      <td>...</td>\n",
       "      <td>...</td>\n",
       "    </tr>\n",
       "    <tr>\n",
       "      <th>19790</th>\n",
       "      <td>0.000046</td>\n",
       "      <td>0.000058</td>\n",
       "      <td>19790</td>\n",
       "      <td>19546</td>\n",
       "      <td>TNE0954_93697_62593</td>\n",
       "      <td>93697</td>\n",
       "      <td>62593</td>\n",
       "      <td>TNE0954</td>\n",
       "      <td>CaA2</td>\n",
       "      <td>0.167797</td>\n",
       "      <td>0.832203</td>\n",
       "      <td>1</td>\n",
       "    </tr>\n",
       "    <tr>\n",
       "      <th>19791</th>\n",
       "      <td>0.000046</td>\n",
       "      <td>0.000058</td>\n",
       "      <td>19791</td>\n",
       "      <td>19546</td>\n",
       "      <td>TNE0954_94081_62593</td>\n",
       "      <td>94081</td>\n",
       "      <td>62593</td>\n",
       "      <td>TNE0954</td>\n",
       "      <td>CaA2</td>\n",
       "      <td>0.167797</td>\n",
       "      <td>0.832203</td>\n",
       "      <td>1</td>\n",
       "    </tr>\n",
       "    <tr>\n",
       "      <th>19792</th>\n",
       "      <td>0.000046</td>\n",
       "      <td>0.000058</td>\n",
       "      <td>19792</td>\n",
       "      <td>19546</td>\n",
       "      <td>TNE0954_94465_62593</td>\n",
       "      <td>94465</td>\n",
       "      <td>62593</td>\n",
       "      <td>TNE0954</td>\n",
       "      <td>CaA2</td>\n",
       "      <td>0.167797</td>\n",
       "      <td>0.832203</td>\n",
       "      <td>1</td>\n",
       "    </tr>\n",
       "    <tr>\n",
       "      <th>19793</th>\n",
       "      <td>0.000046</td>\n",
       "      <td>0.000058</td>\n",
       "      <td>19793</td>\n",
       "      <td>19546</td>\n",
       "      <td>TNE0954_94849_62593</td>\n",
       "      <td>94849</td>\n",
       "      <td>62593</td>\n",
       "      <td>TNE0954</td>\n",
       "      <td>CaA2</td>\n",
       "      <td>0.167797</td>\n",
       "      <td>0.832203</td>\n",
       "      <td>1</td>\n",
       "    </tr>\n",
       "    <tr>\n",
       "      <th>19794</th>\n",
       "      <td>0.000048</td>\n",
       "      <td>0.000052</td>\n",
       "      <td>19794</td>\n",
       "      <td>19546</td>\n",
       "      <td>TNE0954_95233_62593</td>\n",
       "      <td>95233</td>\n",
       "      <td>62593</td>\n",
       "      <td>TNE0954</td>\n",
       "      <td>CaA2</td>\n",
       "      <td>0.167797</td>\n",
       "      <td>0.832203</td>\n",
       "      <td>1</td>\n",
       "    </tr>\n",
       "  </tbody>\n",
       "</table>\n",
       "<p>19795 rows × 12 columns</p>\n",
       "</div>"
      ],
      "text/plain": [
       "       attn_scores_a1  attn_scores_a2  x_rank  y_rank             img_id_c  \\\n",
       "0            0.000048        0.000058       0   19546      TNE0954_1_62593   \n",
       "1            0.000051        0.000059       1   19546    TNE0954_385_62593   \n",
       "2            0.000049        0.000059       2   19546    TNE0954_769_62593   \n",
       "3            0.000049        0.000056       3   19546   TNE0954_1153_62593   \n",
       "4            0.000048        0.000065       4   12708   TNE0954_1537_31489   \n",
       "...               ...             ...     ...     ...                  ...   \n",
       "19790        0.000046        0.000058   19790   19546  TNE0954_93697_62593   \n",
       "19791        0.000046        0.000058   19791   19546  TNE0954_94081_62593   \n",
       "19792        0.000046        0.000058   19792   19546  TNE0954_94465_62593   \n",
       "19793        0.000046        0.000058   19793   19546  TNE0954_94849_62593   \n",
       "19794        0.000048        0.000052   19794   19546  TNE0954_95233_62593   \n",
       "\n",
       "           x      y   tne_id labels_names  Probs_A1  Probs_A2  preds_roformer  \n",
       "0          1  62593  TNE0954         CaA2  0.167797  0.832203               1  \n",
       "1        385  62593  TNE0954         CaA2  0.167797  0.832203               1  \n",
       "2        769  62593  TNE0954         CaA2  0.167797  0.832203               1  \n",
       "3       1153  62593  TNE0954         CaA2  0.167797  0.832203               1  \n",
       "4       1537  31489  TNE0954         CaA2  0.167797  0.832203               1  \n",
       "...      ...    ...      ...          ...       ...       ...             ...  \n",
       "19790  93697  62593  TNE0954         CaA2  0.167797  0.832203               1  \n",
       "19791  94081  62593  TNE0954         CaA2  0.167797  0.832203               1  \n",
       "19792  94465  62593  TNE0954         CaA2  0.167797  0.832203               1  \n",
       "19793  94849  62593  TNE0954         CaA2  0.167797  0.832203               1  \n",
       "19794  95233  62593  TNE0954         CaA2  0.167797  0.832203               1  \n",
       "\n",
       "[19795 rows x 12 columns]"
      ]
     },
     "execution_count": 46,
     "metadata": {},
     "output_type": "execute_result"
    }
   ],
   "source": [
    "df_test_pred_s"
   ]
  },
  {
   "cell_type": "code",
   "execution_count": 57,
   "metadata": {},
   "outputs": [],
   "source": [
    "arch = list(set(df_test_pred_s[\"labels_names\"].values))[0]\n",
    "if list(set(df_test_pred_s[\"labels_names\"].values))[0] == \"CaA1\" and list(set(df_test_pred_s[\"preds_roformer\"].values))[0] == 0:\n",
    "    outputdir = f'{ResExpRoformerFormat}/{VizAttnMaps}/PredA1_TruthA1'\n",
    "elif  list(set(df_test_pred_s[\"labels_names\"].values))[0] == \"CaA2\" and list(set(df_test_pred_s[\"preds_roformer\"].values))[0] == 1:\n",
    "    outputdir = f'{ResExpRoformerFormat}/{VizAttnMaps}/PredA2_TruthA2'\n",
    "elif  list(set(df_test_pred_s[\"labels_names\"].values))[0] == \"CaA1\" and list(set(df_test_pred_s[\"preds_roformer\"].values))[0] == 1:\n",
    "    outputdir = f'{ResExpRoformerFormat}/{VizAttnMaps}/PredA2_TruthA1'\n",
    "else:\n",
    "    outputdir = f'{ResExpRoformerFormat}/{VizAttnMaps}/PredA1_TruthA2'\n"
   ]
  },
  {
   "cell_type": "code",
   "execution_count": 58,
   "metadata": {},
   "outputs": [
    {
     "data": {
      "text/plain": [
       "'/home/mathiane/LNENWork/data_RoFormerMIL_CaA1CaA2_norm/dataRoFormer/script_analysis/unbeat_steed_2024_04_11_21-24/viz_attn_maps/PredA2_TruthA2'"
      ]
     },
     "execution_count": 58,
     "metadata": {},
     "output_type": "execute_result"
    }
   ],
   "source": [
    "outputdir"
   ]
  },
  {
   "cell_type": "code",
   "execution_count": 59,
   "metadata": {},
   "outputs": [
    {
     "name": "stdout",
     "output_type": "stream",
     "text": [
      "get_full_img   /home/mathiane/LNENWork/FullSlidesToJpeg/TNE0954.jpg\n"
     ]
    }
   ],
   "source": [
    "Path2Image = []\n",
    "PredTumorNomal = []\n",
    "loss_t = \"Attention_scores\"\n",
    "for k in sample_maxX_maxY.keys():\n",
    "    if k in sample_id:  \n",
    "        os.makedirs(f\"{outputdir}/{k}\", exist_ok=True)  \n",
    "        for i in range(df_test_pred_s.shape[0]):\n",
    "            x_ = int(df_test_pred_s.iloc[i,:]['x'])\n",
    "            y_ = int(df_test_pred_s.iloc[i,:]['y'])\n",
    "            \n",
    "            Path2Image.append(df_test_pred_s.iloc[i,:]['img_id_c'])\n",
    "            \n",
    "            mat_prob_A1[x_ // im_size * 30 :x_ // im_size *30 + 30 , \n",
    "                        y_ // im_size * 30 :y_ // im_size * 30 + 30 ]= df_test_pred_s.iloc[i,df_test_pred_s.columns.get_loc('attn_scores_a1')]\n",
    "  \n",
    "            mat_prob_A2[x_ // im_size * 30 :x_ // im_size *30 + 30 , \n",
    "                        y_ // im_size * 30 :y_ // im_size * 30 + 30 ]= df_test_pred_s.iloc[i,df_test_pred_s.columns.get_loc('attn_scores_a2')]\n",
    "  \n",
    "            \n",
    "        if k.find('TNE') != -1:\n",
    "            get_full_img = full_LNEN_WSI + \"/\" +folder_name_full_size\n",
    "            print('get_full_img  ', get_full_img)\n",
    "\n",
    "        ## CP WSI\n",
    "        im = cv2.imread(get_full_img)\n",
    "        im = cv2.cvtColor(im, cv2.COLOR_BGR2RGB)\n",
    "        fig=plt.figure(1,figsize=(8,8))\n",
    "        plt.imshow(im.astype('uint8'))\n",
    "\n",
    "        plt.title('WSI_{}'.format(k))\n",
    "        fig.savefig(os.path.join(outputdir,  k,'WSI_{}.png'.format(k)), dpi=fig.dpi)\n",
    "        plt.close()\n",
    "\n",
    "        #A1 attn scores norm\n",
    "        color_map = plt.cm.get_cmap('coolwarm')\n",
    "        fig=plt.figure(2,figsize=(16,16))\n",
    "        plt.matshow(mat_prob_A1,  cmap=color_map,\n",
    "                    interpolation='none',  fignum=2, vmin=Q1_A1, \n",
    "                    vmax =Q9_A1)\n",
    "        mtitle = 'Arch {} tiles scores sample {} '.format(arch ,k)\n",
    "        plt.title(mtitle)\n",
    "        plt.colorbar()\n",
    "        fig.savefig(os.path.join(outputdir, k, 'arch_{}_map_minmaxnorm_{}_{}_A1.png'.format(arch, k, loss_t)), dpi=fig.dpi)\n",
    "        plt.colorbar()\n",
    "        plt.close()\n",
    "                \n",
    "       \n",
    "        #A2 attn scores norm\n",
    "        color_map = plt.cm.get_cmap('coolwarm')\n",
    "        fig=plt.figure(2,figsize=(16,16))\n",
    "        plt.matshow(mat_prob_A2,  cmap=color_map,\n",
    "                    interpolation='none',  fignum=2, vmin=Q1_A2, \n",
    "                    vmax =Q9_A2)\n",
    "        mtitle = 'Arch {} tiles scores sample {} '.format(arch ,k)\n",
    "        plt.title(mtitle)\n",
    "        plt.colorbar()\n",
    "        fig.savefig(os.path.join(outputdir, k, 'arch_{}_map_minmaxnorm_{}_{}_A2.png'.format(arch, k, loss_t)), dpi=fig.dpi)\n",
    "        plt.colorbar()\n",
    "        plt.close()\n",
    "                \n",
    "        ## A1 Attn scores unnorm\n",
    "        color_map = plt.cm.get_cmap('coolwarm')\n",
    "        fig=plt.figure(4,figsize=(8,8))\n",
    "        plt.matshow(mat_prob_A1,  cmap=color_map,\n",
    "                    interpolation='none',  fignum=4)\n",
    "        mtitle = 'Arch {} tiles scores sample {} '.format(arch, k)\n",
    "        plt.title(mtitle)\n",
    "        plt.colorbar()\n",
    "        fig.savefig(os.path.join(outputdir, k,'Arch_{}_map_{}_{}_A1.png'.format( arch, k, loss_t)), dpi=fig.dpi)\n",
    "        plt.colorbar()\n",
    "        plt.close()\n",
    "        \n",
    "                   \n",
    "        ## A2 Attn scores unnorm\n",
    "        color_map = plt.cm.get_cmap('coolwarm')\n",
    "        fig=plt.figure(4,figsize=(8,8))\n",
    "        plt.matshow(mat_prob_A2,  cmap=color_map,\n",
    "                    interpolation='none',  fignum=4)\n",
    "        mtitle = 'Arch {} tiles scores sample {} '.format(arch, k)\n",
    "        plt.title(mtitle)\n",
    "        plt.colorbar()\n",
    "        fig.savefig(os.path.join(outputdir, k,'Arch_{}_map_{}_{}_A2.png'.format( arch, k, loss_t)), dpi=fig.dpi)\n",
    "        plt.colorbar()\n",
    "        plt.close()\n",
    "    "
   ]
  },
  {
   "cell_type": "code",
   "execution_count": 60,
   "metadata": {},
   "outputs": [],
   "source": [
    "some_tiles_id_A1 = list(df_test_pred_s.sort_values(by=[\"attn_scores_a1\"], ascending=False)[\"img_id_c\"].values[:20])"
   ]
  },
  {
   "cell_type": "code",
   "execution_count": 65,
   "metadata": {},
   "outputs": [],
   "source": [
    "os.makedirs(os.path.join(outputdir,  k ,  'DiscrimiantTilesA1'), exist_ok=True)\n",
    "for tile  in some_tiles_id_A1:\n",
    "    t_path = os.path.join(\"/home/mathiane/LNENWork/Tiles_HE_all_samples_384_384_2\", folder_name, \"accept\", folder_name  + \"_\" + tile[8:] + \".jpg\")\n",
    "    t_path\n",
    "    shutil.copy(t_path , os.path.join(outputdir,  k ,  'DiscrimiantTilesA1'))"
   ]
  },
  {
   "cell_type": "code",
   "execution_count": 66,
   "metadata": {},
   "outputs": [],
   "source": [
    "some_tiles_id_A2 = list(df_test_pred_s.sort_values(by=[\"attn_scores_a2\"], ascending=False)[\"img_id_c\"].values[:20])\n",
    "os.makedirs(os.path.join(outputdir,  k ,  'DiscrimiantTilesA2'), exist_ok=True)\n",
    "for tile  in some_tiles_id_A2:\n",
    "    t_path = os.path.join(\"/home/mathiane/LNENWork/Tiles_HE_all_samples_384_384_2\", folder_name, \"accept\", folder_name  + \"_\" + tile[8:] + \".jpg\")\n",
    "    t_path\n",
    "    shutil.copy(t_path , os.path.join(outputdir,  k ,  'DiscrimiantTilesA2'))"
   ]
  },
  {
   "cell_type": "code",
   "execution_count": 67,
   "metadata": {},
   "outputs": [
    {
     "data": {
      "text/plain": [
       "<AxesSubplot:xlabel='attn_scores_a1', ylabel='attn_scores_a2'>"
      ]
     },
     "execution_count": 67,
     "metadata": {},
     "output_type": "execute_result"
    },
    {
     "data": {
      "image/png": "[encoded data removed]",
      "text/plain": [
       "<Figure size 432x288 with 1 Axes>"
      ]
     },
     "metadata": {
      "needs_background": "light"
     },
     "output_type": "display_data"
    }
   ],
   "source": [
    "attn_scores_corelation = sns.regplot(data=df_test_pred_s, x=\"attn_scores_a1\", y=\"attn_scores_a2\",    scatter_kws = {\"color\": \"blue\", \"alpha\": 0.5},\n",
    "            line_kws = {\"color\": \"red\"})\n",
    "fig = attn_scores_corelation.get_figure()\n",
    "fig.savefig(os.path.join(outputdir,  k ,\"attn_scores_corelation.png\")) "
   ]
  },
  {
   "cell_type": "code",
   "execution_count": null,
   "metadata": {},
   "outputs": [],
   "source": [
    "rom matplotlib_venn import venn2"
   ]
  }
 ],
 "metadata": {
  "kernelspec": {
   "display_name": "HaloAE",
   "language": "python",
   "name": "python3"
  },
  "language_info": {
   "codemirror_mode": {
    "name": "ipython",
    "version": 3
   },
   "file_extension": ".py",
   "mimetype": "text/x-python",
   "name": "python",
   "nbconvert_exporter": "python",
   "pygments_lexer": "ipython3",
   "version": "3.6.13"
  }
 },
 "nbformat": 4,
 "nbformat_minor": 2
}
