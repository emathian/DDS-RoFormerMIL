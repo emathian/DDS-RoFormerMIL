{
 "cells": [
  {
   "cell_type": "code",
   "execution_count": 2,
   "metadata": {},
   "outputs": [],
   "source": [
    "import matplotlib.pyplot as plt\n",
    "import matplotlib.colors\n",
    "import numpy as np\n",
    "import os\n",
    "import cv2\n",
    "import pandas as pd\n",
    "import argparse\n",
    "import shutil\n",
    "import seaborn as sns\n",
    "import json\n",
    "import h5py\n",
    "import glob\n",
    "from sklearn.metrics import roc_auc_score, average_precision_score, roc_curve, accuracy_score, precision_score, recall_score"
   ]
  },
  {
   "cell_type": "markdown",
   "metadata": {},
   "source": [
    "## Get predictions"
   ]
  },
  {
   "cell_type": "code",
   "execution_count": 3,
   "metadata": {},
   "outputs": [],
   "source": [
    "unbeat_steed = \"/home/mathiane/LNENWork/data_RoFormerMIL_CaA1CaA2_norm/dataRoFormer/results/task_4_carcinoids_CaA1_CaA2/CaA1Ca2_unbalanced_norm/label_frac=100/BTRoPEAMIL_s_pixel/training/2024-04-11_21-24-30\"\n",
    "stylish_mule = \"/home/mathiane/LNENWork/data_RoFormerMIL_CaA1CaA2_norm/dataRoFormer/results/task_4_carcinoids_CaA1_CaA2/CaA1Ca2_unbalanced_norm/label_frac=100/BTRoPEAMIL_s_pixel/training/2024-04-15_19-49-20\"\n",
    "unbeat_steed_eval = \"/home/mathiane/LNENWork/data_RoFormerMIL_CaA1CaA2_norm/dataRoFormer/results/task_4_carcinoids_CaA1_CaA2/CaA1Ca2_unbalanced_norm/label_frac=100/BTRoPEAMIL_s_pixel/eval/2024-04-16_11-21-59\"\n",
    "list_unbeat_steed = glob.glob(f\"{unbeat_steed}/patients_preds.parquet/*/*/*/*.parquet\")\n",
    "list_unbeat_eval = glob.glob(f\"{unbeat_steed_eval}/patients_preds.parquet/*/*/*.parquet\")\n",
    "list_stylish_mule = glob.glob(f\"{stylish_mule}/patients_preds.parquet/*/*/*/*.parquet\")"
   ]
  },
  {
   "cell_type": "code",
   "execution_count": 4,
   "metadata": {},
   "outputs": [],
   "source": [
    "list_res_test = list_unbeat_steed +list_stylish_mule + list_unbeat_eval"
   ]
  },
  {
   "cell_type": "code",
   "execution_count": 5,
   "metadata": {},
   "outputs": [
    {
     "data": {
      "text/html": [
       "<div>\n",
       "<style scoped>\n",
       "    .dataframe tbody tr th:only-of-type {\n",
       "        vertical-align: middle;\n",
       "    }\n",
       "\n",
       "    .dataframe tbody tr th {\n",
       "        vertical-align: top;\n",
       "    }\n",
       "\n",
       "    .dataframe thead th {\n",
       "        text-align: right;\n",
       "    }\n",
       "</style>\n",
       "<table border=\"1\" class=\"dataframe\">\n",
       "  <thead>\n",
       "    <tr style=\"text-align: right;\">\n",
       "      <th></th>\n",
       "      <th>slide_id</th>\n",
       "      <th>probs</th>\n",
       "      <th>labels</th>\n",
       "    </tr>\n",
       "  </thead>\n",
       "  <tbody>\n",
       "    <tr>\n",
       "      <th>0</th>\n",
       "      <td>TNE0009</td>\n",
       "      <td>[0.6791048049926758, 0.32089516520500183]</td>\n",
       "      <td>0</td>\n",
       "    </tr>\n",
       "  </tbody>\n",
       "</table>\n",
       "</div>"
      ],
      "text/plain": [
       "  slide_id                                      probs  labels\n",
       "0  TNE0009  [0.6791048049926758, 0.32089516520500183]       0"
      ]
     },
     "execution_count": 5,
     "metadata": {},
     "output_type": "execute_result"
    }
   ],
   "source": [
    "df_res_c = pd.read_parquet(list_unbeat_eval[0])\n",
    "df_res_c"
   ]
  },
  {
   "cell_type": "code",
   "execution_count": 6,
   "metadata": {},
   "outputs": [
    {
     "data": {
      "text/plain": [
       "array([array([0.6791048 , 0.32089517])], dtype=object)"
      ]
     },
     "execution_count": 6,
     "metadata": {},
     "output_type": "execute_result"
    }
   ],
   "source": [
    "df_res_c[\"probs\"].values"
   ]
  },
  {
   "cell_type": "code",
   "execution_count": 7,
   "metadata": {},
   "outputs": [
    {
     "data": {
      "text/plain": [
       "0.6791048049926758"
      ]
     },
     "execution_count": 7,
     "metadata": {},
     "output_type": "execute_result"
    }
   ],
   "source": [
    "df_res_c[\"probs\"].values[0][0]"
   ]
  },
  {
   "cell_type": "code",
   "execution_count": 8,
   "metadata": {},
   "outputs": [
    {
     "name": "stdout",
     "output_type": "stream",
     "text": [
      "  slide_id                                      probs  labels\n",
      "0  TNE0009  [0.6791048049926758, 0.32089516520500183]       0\n"
     ]
    },
    {
     "data": {
      "text/html": [
       "<div>\n",
       "<style scoped>\n",
       "    .dataframe tbody tr th:only-of-type {\n",
       "        vertical-align: middle;\n",
       "    }\n",
       "\n",
       "    .dataframe tbody tr th {\n",
       "        vertical-align: top;\n",
       "    }\n",
       "\n",
       "    .dataframe thead th {\n",
       "        text-align: right;\n",
       "    }\n",
       "</style>\n",
       "<table border=\"1\" class=\"dataframe\">\n",
       "  <thead>\n",
       "    <tr style=\"text-align: right;\">\n",
       "      <th></th>\n",
       "      <th>slide_id</th>\n",
       "      <th>preds</th>\n",
       "      <th>labels</th>\n",
       "      <th>probas</th>\n",
       "      <th>A1</th>\n",
       "      <th>A2</th>\n",
       "    </tr>\n",
       "  </thead>\n",
       "  <tbody>\n",
       "    <tr>\n",
       "      <th>0</th>\n",
       "      <td>TNE0954</td>\n",
       "      <td>1</td>\n",
       "      <td>1</td>\n",
       "      <td>[0.16779744625091553, 0.8322026133537292]</td>\n",
       "      <td>0.167797</td>\n",
       "      <td>0.832203</td>\n",
       "    </tr>\n",
       "    <tr>\n",
       "      <th>0</th>\n",
       "      <td>TNE0953</td>\n",
       "      <td>1</td>\n",
       "      <td>1</td>\n",
       "      <td>[0.07978201657533646, 0.9202179908752441]</td>\n",
       "      <td>0.079782</td>\n",
       "      <td>0.920218</td>\n",
       "    </tr>\n",
       "    <tr>\n",
       "      <th>0</th>\n",
       "      <td>TNE0883</td>\n",
       "      <td>0</td>\n",
       "      <td>0</td>\n",
       "      <td>[0.6546739935874939, 0.3453260362148285]</td>\n",
       "      <td>0.654674</td>\n",
       "      <td>0.345326</td>\n",
       "    </tr>\n",
       "    <tr>\n",
       "      <th>0</th>\n",
       "      <td>TNE0058</td>\n",
       "      <td>1</td>\n",
       "      <td>0</td>\n",
       "      <td>[0.26412105560302734, 0.7358789443969727]</td>\n",
       "      <td>0.264121</td>\n",
       "      <td>0.735879</td>\n",
       "    </tr>\n",
       "    <tr>\n",
       "      <th>0</th>\n",
       "      <td>TNE0987</td>\n",
       "      <td>0</td>\n",
       "      <td>1</td>\n",
       "      <td>[0.8802319765090942, 0.11976800858974457]</td>\n",
       "      <td>0.880232</td>\n",
       "      <td>0.119768</td>\n",
       "    </tr>\n",
       "  </tbody>\n",
       "</table>\n",
       "</div>"
      ],
      "text/plain": [
       "  slide_id  preds  labels                                     probas  \\\n",
       "0  TNE0954      1       1  [0.16779744625091553, 0.8322026133537292]   \n",
       "0  TNE0953      1       1  [0.07978201657533646, 0.9202179908752441]   \n",
       "0  TNE0883      0       0   [0.6546739935874939, 0.3453260362148285]   \n",
       "0  TNE0058      1       0  [0.26412105560302734, 0.7358789443969727]   \n",
       "0  TNE0987      0       1  [0.8802319765090942, 0.11976800858974457]   \n",
       "\n",
       "         A1        A2  \n",
       "0  0.167797  0.832203  \n",
       "0  0.079782  0.920218  \n",
       "0  0.654674  0.345326  \n",
       "0  0.264121  0.735879  \n",
       "0  0.880232  0.119768  "
      ]
     },
     "execution_count": 8,
     "metadata": {},
     "output_type": "execute_result"
    }
   ],
   "source": [
    "c = 0 \n",
    "for path_res in list_res_test:\n",
    "    if path_res not in list_unbeat_eval:\n",
    "        df_res_c = pd.read_parquet(path_res)\n",
    "        df_res_c[\"A1\"] = df_res_c[\"probas\"].values[0][0]\n",
    "        df_res_c[\"A2\"] = df_res_c[\"probas\"].values[0][1]\n",
    "        df_res_c = df_res_c.dropna(subset=[\"A1\"])\n",
    "    else:\n",
    "        df_res_c_tmp = pd.read_parquet(path_res)\n",
    "        ## Get pred -\n",
    "        preds = np.argmax(df_res_c_tmp[\"probs\"].values[0,])\n",
    "        slide_id = df_res_c_tmp[\"slide_id\"].values[0]\n",
    "        labels = df_res_c_tmp[\"labels\"].values[0]\n",
    "\n",
    "        A1 = df_res_c_tmp[\"probs\"].values[0][0]\n",
    "        A2 = df_res_c_tmp[\"probs\"].values[0][1]\n",
    "        print(df_res_c_tmp)\n",
    "        \n",
    "        df_res_c = pd.DataFrame(data = {\"slide_id\" : [slide_id],\n",
    "                                       \"preds\" : [preds],\n",
    "                                       \"labels\" :[labels],\n",
    "                                       \"probas\" :  df_res_c_tmp[\"probs\"].values,\n",
    "                                       \"A1\":A1,\n",
    "                                       \"A2\": A2\n",
    "                                       })\n",
    "    if c == 0:\n",
    "        df_res = df_res_c     \n",
    "    else:\n",
    "        df_res = pd.concat([df_res, df_res_c])\n",
    "    c +=1\n",
    "df_res.head()"
   ]
  },
  {
   "cell_type": "code",
   "execution_count": 9,
   "metadata": {},
   "outputs": [
    {
     "data": {
      "text/plain": [
       "(130, 6)"
      ]
     },
     "execution_count": 9,
     "metadata": {},
     "output_type": "execute_result"
    }
   ],
   "source": [
    "df_res.shape"
   ]
  },
  {
   "cell_type": "code",
   "execution_count": 12,
   "metadata": {},
   "outputs": [
    {
     "data": {
      "text/plain": [
       "['TNE0954',\n",
       " 'TNE0953',\n",
       " 'TNE0883',\n",
       " 'TNE0058',\n",
       " 'TNE0987',\n",
       " 'TNE1350',\n",
       " 'TNE1508',\n",
       " 'TNE1418',\n",
       " 'TNE0986',\n",
       " 'TNE1082',\n",
       " 'TNE0997',\n",
       " 'TNE1102',\n",
       " 'TNE0898',\n",
       " 'TNE0072',\n",
       " 'TNE0985',\n",
       " 'TNE1001',\n",
       " 'TNE1008',\n",
       " 'TNE0229',\n",
       " 'TNE0797',\n",
       " 'TNE0340',\n",
       " 'TNE1416',\n",
       " 'TNE1089',\n",
       " 'TNE0341',\n",
       " 'TNE0969',\n",
       " 'TNE0031',\n",
       " 'TNE0881',\n",
       " 'TNE1448',\n",
       " 'TNE0228',\n",
       " 'TNE1794',\n",
       " 'TNE0889',\n",
       " 'TNE1430',\n",
       " 'TNE0993',\n",
       " 'TNE0080',\n",
       " 'TNE1086',\n",
       " 'TNE1080',\n",
       " 'TNE0880',\n",
       " 'TNE0879',\n",
       " 'TNE0001',\n",
       " 'TNE0075',\n",
       " 'TNE0956',\n",
       " 'TNE1011',\n",
       " 'TNE1414',\n",
       " 'TNE0983',\n",
       " 'TNE1426',\n",
       " 'TNE0231',\n",
       " 'TNE0965',\n",
       " 'TNE1442',\n",
       " 'TNE1409',\n",
       " 'TNE0979',\n",
       " 'TNE0975',\n",
       " 'TNE1458',\n",
       " 'TNE1407',\n",
       " 'TNE1435',\n",
       " 'TNE1404',\n",
       " 'TNE0893',\n",
       " 'TNE0884',\n",
       " 'TNE0873',\n",
       " 'TNE0081',\n",
       " 'TNE0974',\n",
       " 'TNE0077',\n",
       " 'TNE1371',\n",
       " 'TNE0988',\n",
       " 'TNE1405',\n",
       " 'TNE1078',\n",
       " 'TNE0809',\n",
       " 'TNE0181',\n",
       " 'TNE1367',\n",
       " 'TNE0959',\n",
       " 'TNE0962',\n",
       " 'TNE0079',\n",
       " 'TNE0232',\n",
       " 'TNE0003',\n",
       " 'TNE0406',\n",
       " 'TNE0886',\n",
       " 'TNE0952',\n",
       " 'TNE1075',\n",
       " 'TNE0882',\n",
       " 'TNE1098',\n",
       " 'TNE1097',\n",
       " 'TNE0008',\n",
       " 'TNE1077',\n",
       " 'TNE0404',\n",
       " 'TNE0387',\n",
       " 'TNE0541',\n",
       " 'TNE1092',\n",
       " 'TNE0286',\n",
       " 'TNE1446',\n",
       " 'TNE1452',\n",
       " 'TNE1412',\n",
       " 'TNE0876',\n",
       " 'TNE1087',\n",
       " 'TNE0980',\n",
       " 'TNE0360',\n",
       " 'TNE0944',\n",
       " 'TNE0966',\n",
       " 'TNE1499',\n",
       " 'TNE0981',\n",
       " 'TNE0485',\n",
       " 'TNE1079',\n",
       " 'TNE0230',\n",
       " 'TNE0963',\n",
       " 'TNE0888',\n",
       " 'TNE1427',\n",
       " 'TNE0891',\n",
       " 'TNE1093',\n",
       " 'TNE1431',\n",
       " 'TNE1099',\n",
       " 'TNE0798',\n",
       " 'TNE1415',\n",
       " 'TNE0408',\n",
       " 'TNE0015',\n",
       " 'TNE0892',\n",
       " 'TNE0998',\n",
       " 'TNE0875',\n",
       " 'TNE1429',\n",
       " 'TNE0308',\n",
       " 'TNE1365',\n",
       " 'TNE1094',\n",
       " 'TNE0524',\n",
       " 'TNE0870',\n",
       " 'TNE0007',\n",
       " 'TNE1019',\n",
       " 'TNE1100',\n",
       " 'TNE1903',\n",
       " 'TNE0887',\n",
       " 'TNE0803',\n",
       " 'TNE1411',\n",
       " 'TNE1428',\n",
       " 'TNE1007',\n",
       " 'TNE0009']"
      ]
     },
     "execution_count": 12,
     "metadata": {},
     "output_type": "execute_result"
    }
   ],
   "source": [
    "df_res[\"slide_id\"].tolist()"
   ]
  },
  {
   "cell_type": "code",
   "execution_count": 10,
   "metadata": {},
   "outputs": [
    {
     "data": {
      "text/html": [
       "<div>\n",
       "<style scoped>\n",
       "    .dataframe tbody tr th:only-of-type {\n",
       "        vertical-align: middle;\n",
       "    }\n",
       "\n",
       "    .dataframe tbody tr th {\n",
       "        vertical-align: top;\n",
       "    }\n",
       "\n",
       "    .dataframe thead th {\n",
       "        text-align: right;\n",
       "    }\n",
       "</style>\n",
       "<table border=\"1\" class=\"dataframe\">\n",
       "  <thead>\n",
       "    <tr style=\"text-align: right;\">\n",
       "      <th></th>\n",
       "      <th>slide_id</th>\n",
       "      <th>preds</th>\n",
       "      <th>labels</th>\n",
       "      <th>probas</th>\n",
       "      <th>A1</th>\n",
       "      <th>A2</th>\n",
       "    </tr>\n",
       "  </thead>\n",
       "  <tbody>\n",
       "    <tr>\n",
       "      <th>0</th>\n",
       "      <td>TNE0058</td>\n",
       "      <td>1</td>\n",
       "      <td>0</td>\n",
       "      <td>[0.26412105560302734, 0.7358789443969727]</td>\n",
       "      <td>0.264121</td>\n",
       "      <td>0.735879</td>\n",
       "    </tr>\n",
       "  </tbody>\n",
       "</table>\n",
       "</div>"
      ],
      "text/plain": [
       "  slide_id  preds  labels                                     probas  \\\n",
       "0  TNE0058      1       0  [0.26412105560302734, 0.7358789443969727]   \n",
       "\n",
       "         A1        A2  \n",
       "0  0.264121  0.735879  "
      ]
     },
     "execution_count": 10,
     "metadata": {},
     "output_type": "execute_result"
    }
   ],
   "source": [
    "df_res[df_res[\"slide_id\"] == \"TNE0058\"]"
   ]
  },
  {
   "cell_type": "code",
   "execution_count": 93,
   "metadata": {},
   "outputs": [],
   "source": [
    "df_res = df_res.dropna(subset=[\"A1\"])"
   ]
  },
  {
   "cell_type": "code",
   "execution_count": 94,
   "metadata": {},
   "outputs": [
    {
     "data": {
      "text/html": [
       "<div>\n",
       "<style scoped>\n",
       "    .dataframe tbody tr th:only-of-type {\n",
       "        vertical-align: middle;\n",
       "    }\n",
       "\n",
       "    .dataframe tbody tr th {\n",
       "        vertical-align: top;\n",
       "    }\n",
       "\n",
       "    .dataframe thead th {\n",
       "        text-align: right;\n",
       "    }\n",
       "</style>\n",
       "<table border=\"1\" class=\"dataframe\">\n",
       "  <thead>\n",
       "    <tr style=\"text-align: right;\">\n",
       "      <th></th>\n",
       "      <th>slide_id</th>\n",
       "      <th>preds</th>\n",
       "      <th>labels</th>\n",
       "      <th>probas</th>\n",
       "      <th>A1</th>\n",
       "      <th>A2</th>\n",
       "    </tr>\n",
       "  </thead>\n",
       "  <tbody>\n",
       "  </tbody>\n",
       "</table>\n",
       "</div>"
      ],
      "text/plain": [
       "Empty DataFrame\n",
       "Columns: [slide_id, preds, labels, probas, A1, A2]\n",
       "Index: []"
      ]
     },
     "execution_count": 94,
     "metadata": {},
     "output_type": "execute_result"
    }
   ],
   "source": [
    "df_res[df_res['A1'].isnull()]"
   ]
  },
  {
   "cell_type": "code",
   "execution_count": 95,
   "metadata": {},
   "outputs": [
    {
     "name": "stdout",
     "output_type": "stream",
     "text": [
      "0.85\n",
      "0.85\n",
      "0.8615384615384616\n",
      "0.7917307692307691\n",
      "0.9092857142857144\n"
     ]
    }
   ],
   "source": [
    "print(precision_score(df_res['labels'], df_res['preds']))\n",
    "print(recall_score(df_res['labels'], df_res['preds']))\n",
    "print(accuracy_score(df_res['labels'], df_res['preds']))\n",
    "print(average_precision_score(df_res['labels'], df_res['preds']))\n",
    "print(roc_auc_score(df_res['labels'], df_res['A2']))"
   ]
  },
  {
   "cell_type": "code",
   "execution_count": 96,
   "metadata": {},
   "outputs": [],
   "source": [
    "labels_names =  [  ]\n",
    "for ele in df_res[\"labels\"].values:\n",
    "    if ele == 0:\n",
    "        labels_names.append(\"CaA1\")\n",
    "    else:\n",
    "        labels_names.append(\"CaA2\")\n",
    "        "
   ]
  },
  {
   "cell_type": "code",
   "execution_count": 99,
   "metadata": {},
   "outputs": [],
   "source": [
    "df_res=  df_res.assign(labels_names = labels_names)"
   ]
  },
  {
   "cell_type": "code",
   "execution_count": 101,
   "metadata": {},
   "outputs": [],
   "source": [
    "df_res.to_csv(\"/home/mathiane/LNENWork/data_RoFormerMIL_CaA1CaA2_norm/dataRoFormer/script_analysis/unbeat_steed_2024_04_11_21-24/predictions_all_test_folds.csv\", index=False)"
   ]
  },
  {
   "cell_type": "markdown",
   "metadata": {},
   "source": [
    "## Get all attention scores"
   ]
  },
  {
   "cell_type": "code",
   "execution_count": 105,
   "metadata": {},
   "outputs": [],
   "source": [
    "attn_scores_unbeat_steed = glob.glob(f\"{unbeat_steed}/attention_scores/*/*.h5\")\n",
    "attn_scores_stylish_mule = glob.glob(f\"{stylish_mule}/attention_scores/*/*.h5\")\n",
    "attn_scores_unbeat_steed_eval = glob.glob(f\"{unbeat_steed_eval}/attention_scores/*.h5\")"
   ]
  },
  {
   "cell_type": "code",
   "execution_count": 107,
   "metadata": {},
   "outputs": [],
   "source": [
    "attn_scores_fname  =  attn_scores_unbeat_steed + attn_scores_stylish_mule + attn_scores_unbeat_steed_eval"
   ]
  },
  {
   "cell_type": "code",
   "execution_count": 117,
   "metadata": {},
   "outputs": [],
   "source": [
    "RootCoords = \"/home/mathiane/LNENWork/data_RoFormerMIL_CaA1CaA2_norm/coords_table\"\n",
    "Coords_table_A1 = glob.glob(f\"{RootCoords}/*/*coords.csv\")"
   ]
  },
  {
   "cell_type": "code",
   "execution_count": 145,
   "metadata": {},
   "outputs": [
    {
     "name": "stderr",
     "output_type": "stream",
     "text": [
      "/home/mathiane/miniconda3/envs/HaloAE/lib/python3.6/site-packages/ipykernel_launcher.py:6: H5pyDeprecationWarning: dataset.value has been deprecated. Use dataset[()] instead.\n",
      "  \n",
      "/home/mathiane/miniconda3/envs/HaloAE/lib/python3.6/site-packages/ipykernel_launcher.py:7: H5pyDeprecationWarning: dataset.value has been deprecated. Use dataset[()] instead.\n",
      "  import sys\n"
     ]
    }
   ],
   "source": [
    "rootoutdir = \"/home/mathiane/LNENWork/data_RoFormerMIL_CaA1CaA2_norm/dataRoFormer/script_analysis/unbeat_steed_2024_04_11_21-24\"\n",
    "outfolder = \"attn_maps_formated\"\n",
    "os.makedirs(os.path.join(rootoutdir, outfolder), exist_ok=True)\n",
    "for fname in attn_scores_fname:\n",
    "    attn_scores_file = h5py.File(fname, 'r')\n",
    "    attn_scores_coords = attn_scores_file.get(\"coords\").value\n",
    "    attn_scores = attn_scores_file.get(\"attention_scores\").value\n",
    "    attn_scores_a1 = attn_scores[0,:,:].transpose().mean(axis=1)\n",
    "    attn_scores_a2 = attn_scores[1,:,:].transpose().mean(axis=1)\n",
    "    x_rank = attn_scores_coords[:,0]\n",
    "    y_rank = attn_scores_coords[:,1]\n",
    "    attn_scores_df_c = pd.DataFrame(data={\"attn_scores_a1\":attn_scores_a1,\n",
    "                                          \"attn_scores_a2\": attn_scores_a2,\n",
    "                                          \"x_rank\":x_rank,\n",
    "                                          \"y_rank\": y_rank})\n",
    "    ## Get coords table\n",
    "    attn_scores_samples_id = fname.split(\"/\")[-1].split(\".\")[0]\n",
    "    for coords_fname in Coords_table_A1:\n",
    "        if coords_fname.find(attn_scores_samples_id) != -1:\n",
    "            coords_df = pd.read_csv(coords_fname)\n",
    "    attn_scores_to_export = pd.merge(attn_scores_df_c,coords_df,  how='inner', on=['x_rank','y_rank'])\n",
    "    attn_scores_to_export = attn_scores_to_export.assign(tne_id=np.repeat(attn_scores_samples_id, attn_scores_to_export.shape[0]).tolist())\n",
    "    \n",
    "    attn_scores_to_export.to_csv(f\"{rootoutdir}/{outfolder}/AttnScores_{attn_scores_samples_id}.csv\", index=False)"
   ]
  },
  {
   "cell_type": "code",
   "execution_count": 142,
   "metadata": {},
   "outputs": [
    {
     "data": {
      "text/plain": [
       "(16171, 8)"
      ]
     },
     "execution_count": 142,
     "metadata": {},
     "output_type": "execute_result"
    }
   ],
   "source": [
    "attn_scores_to_export.shape"
   ]
  },
  {
   "cell_type": "code",
   "execution_count": 132,
   "metadata": {},
   "outputs": [
    {
     "data": {
      "text/html": [
       "<div>\n",
       "<style scoped>\n",
       "    .dataframe tbody tr th:only-of-type {\n",
       "        vertical-align: middle;\n",
       "    }\n",
       "\n",
       "    .dataframe tbody tr th {\n",
       "        vertical-align: top;\n",
       "    }\n",
       "\n",
       "    .dataframe thead th {\n",
       "        text-align: right;\n",
       "    }\n",
       "</style>\n",
       "<table border=\"1\" class=\"dataframe\">\n",
       "  <thead>\n",
       "    <tr style=\"text-align: right;\">\n",
       "      <th></th>\n",
       "      <th>attn_scores_a1</th>\n",
       "      <th>attn_scores_a2</th>\n",
       "      <th>x_rank</th>\n",
       "      <th>y_rank</th>\n",
       "      <th>img_id_c</th>\n",
       "      <th>x</th>\n",
       "      <th>y</th>\n",
       "    </tr>\n",
       "  </thead>\n",
       "  <tbody>\n",
       "    <tr>\n",
       "      <th>0</th>\n",
       "      <td>0.000059</td>\n",
       "      <td>0.000075</td>\n",
       "      <td>0</td>\n",
       "      <td>33</td>\n",
       "      <td>TNE0058_3457_3073</td>\n",
       "      <td>3457</td>\n",
       "      <td>3073</td>\n",
       "    </tr>\n",
       "    <tr>\n",
       "      <th>1</th>\n",
       "      <td>0.000060</td>\n",
       "      <td>0.000075</td>\n",
       "      <td>1</td>\n",
       "      <td>33</td>\n",
       "      <td>TNE0058_3841_3073</td>\n",
       "      <td>3841</td>\n",
       "      <td>3073</td>\n",
       "    </tr>\n",
       "    <tr>\n",
       "      <th>2</th>\n",
       "      <td>0.000064</td>\n",
       "      <td>0.000052</td>\n",
       "      <td>1</td>\n",
       "      <td>78</td>\n",
       "      <td>TNE0058_3841_3457</td>\n",
       "      <td>3841</td>\n",
       "      <td>3457</td>\n",
       "    </tr>\n",
       "    <tr>\n",
       "      <th>3</th>\n",
       "      <td>0.000055</td>\n",
       "      <td>0.000079</td>\n",
       "      <td>3</td>\n",
       "      <td>2</td>\n",
       "      <td>TNE0058_4225_2689</td>\n",
       "      <td>4225</td>\n",
       "      <td>2689</td>\n",
       "    </tr>\n",
       "    <tr>\n",
       "      <th>4</th>\n",
       "      <td>0.000061</td>\n",
       "      <td>0.000076</td>\n",
       "      <td>3</td>\n",
       "      <td>33</td>\n",
       "      <td>TNE0058_4225_3073</td>\n",
       "      <td>4225</td>\n",
       "      <td>3073</td>\n",
       "    </tr>\n",
       "    <tr>\n",
       "      <th>...</th>\n",
       "      <td>...</td>\n",
       "      <td>...</td>\n",
       "      <td>...</td>\n",
       "      <td>...</td>\n",
       "      <td>...</td>\n",
       "      <td>...</td>\n",
       "      <td>...</td>\n",
       "    </tr>\n",
       "    <tr>\n",
       "      <th>16166</th>\n",
       "      <td>0.000057</td>\n",
       "      <td>0.000078</td>\n",
       "      <td>16164</td>\n",
       "      <td>12490</td>\n",
       "      <td>TNE0058_96385_50305</td>\n",
       "      <td>96385</td>\n",
       "      <td>50305</td>\n",
       "    </tr>\n",
       "    <tr>\n",
       "      <th>16167</th>\n",
       "      <td>0.000054</td>\n",
       "      <td>0.000068</td>\n",
       "      <td>16164</td>\n",
       "      <td>12564</td>\n",
       "      <td>TNE0058_96385_50689</td>\n",
       "      <td>96385</td>\n",
       "      <td>50689</td>\n",
       "    </tr>\n",
       "    <tr>\n",
       "      <th>16168</th>\n",
       "      <td>0.000054</td>\n",
       "      <td>0.000083</td>\n",
       "      <td>16164</td>\n",
       "      <td>12723</td>\n",
       "      <td>TNE0058_96385_51457</td>\n",
       "      <td>96385</td>\n",
       "      <td>51457</td>\n",
       "    </tr>\n",
       "    <tr>\n",
       "      <th>16169</th>\n",
       "      <td>0.000052</td>\n",
       "      <td>0.000072</td>\n",
       "      <td>16164</td>\n",
       "      <td>12802</td>\n",
       "      <td>TNE0058_96385_51841</td>\n",
       "      <td>96385</td>\n",
       "      <td>51841</td>\n",
       "    </tr>\n",
       "    <tr>\n",
       "      <th>16170</th>\n",
       "      <td>0.000053</td>\n",
       "      <td>0.000059</td>\n",
       "      <td>16164</td>\n",
       "      <td>12961</td>\n",
       "      <td>TNE0058_96385_52609</td>\n",
       "      <td>96385</td>\n",
       "      <td>52609</td>\n",
       "    </tr>\n",
       "  </tbody>\n",
       "</table>\n",
       "<p>16171 rows × 7 columns</p>\n",
       "</div>"
      ],
      "text/plain": [
       "       attn_scores_a1  attn_scores_a2  x_rank  y_rank             img_id_c  \\\n",
       "0            0.000059        0.000075       0      33    TNE0058_3457_3073   \n",
       "1            0.000060        0.000075       1      33    TNE0058_3841_3073   \n",
       "2            0.000064        0.000052       1      78    TNE0058_3841_3457   \n",
       "3            0.000055        0.000079       3       2    TNE0058_4225_2689   \n",
       "4            0.000061        0.000076       3      33    TNE0058_4225_3073   \n",
       "...               ...             ...     ...     ...                  ...   \n",
       "16166        0.000057        0.000078   16164   12490  TNE0058_96385_50305   \n",
       "16167        0.000054        0.000068   16164   12564  TNE0058_96385_50689   \n",
       "16168        0.000054        0.000083   16164   12723  TNE0058_96385_51457   \n",
       "16169        0.000052        0.000072   16164   12802  TNE0058_96385_51841   \n",
       "16170        0.000053        0.000059   16164   12961  TNE0058_96385_52609   \n",
       "\n",
       "           x      y  \n",
       "0       3457   3073  \n",
       "1       3841   3073  \n",
       "2       3841   3457  \n",
       "3       4225   2689  \n",
       "4       4225   3073  \n",
       "...      ...    ...  \n",
       "16166  96385  50305  \n",
       "16167  96385  50689  \n",
       "16168  96385  51457  \n",
       "16169  96385  51841  \n",
       "16170  96385  52609  \n",
       "\n",
       "[16171 rows x 7 columns]"
      ]
     },
     "execution_count": 132,
     "metadata": {},
     "output_type": "execute_result"
    }
   ],
   "source": []
  },
  {
   "cell_type": "code",
   "execution_count": 139,
   "metadata": {},
   "outputs": [
    {
     "data": {
      "text/html": [
       "<div>\n",
       "<style scoped>\n",
       "    .dataframe tbody tr th:only-of-type {\n",
       "        vertical-align: middle;\n",
       "    }\n",
       "\n",
       "    .dataframe tbody tr th {\n",
       "        vertical-align: top;\n",
       "    }\n",
       "\n",
       "    .dataframe thead th {\n",
       "        text-align: right;\n",
       "    }\n",
       "</style>\n",
       "<table border=\"1\" class=\"dataframe\">\n",
       "  <thead>\n",
       "    <tr style=\"text-align: right;\">\n",
       "      <th></th>\n",
       "      <th>attn_scores_a1</th>\n",
       "      <th>attn_scores_a2</th>\n",
       "      <th>x_rank</th>\n",
       "      <th>y_rank</th>\n",
       "      <th>tne_id</th>\n",
       "    </tr>\n",
       "  </thead>\n",
       "  <tbody>\n",
       "    <tr>\n",
       "      <th>0</th>\n",
       "      <td>0.000059</td>\n",
       "      <td>0.000075</td>\n",
       "      <td>0</td>\n",
       "      <td>33</td>\n",
       "      <td>TNE0058</td>\n",
       "    </tr>\n",
       "    <tr>\n",
       "      <th>1</th>\n",
       "      <td>0.000060</td>\n",
       "      <td>0.000075</td>\n",
       "      <td>1</td>\n",
       "      <td>33</td>\n",
       "      <td>TNE0058</td>\n",
       "    </tr>\n",
       "    <tr>\n",
       "      <th>2</th>\n",
       "      <td>0.000064</td>\n",
       "      <td>0.000052</td>\n",
       "      <td>1</td>\n",
       "      <td>78</td>\n",
       "      <td>TNE0058</td>\n",
       "    </tr>\n",
       "    <tr>\n",
       "      <th>3</th>\n",
       "      <td>0.000055</td>\n",
       "      <td>0.000079</td>\n",
       "      <td>3</td>\n",
       "      <td>2</td>\n",
       "      <td>TNE0058</td>\n",
       "    </tr>\n",
       "    <tr>\n",
       "      <th>4</th>\n",
       "      <td>0.000061</td>\n",
       "      <td>0.000076</td>\n",
       "      <td>3</td>\n",
       "      <td>33</td>\n",
       "      <td>TNE0058</td>\n",
       "    </tr>\n",
       "    <tr>\n",
       "      <th>...</th>\n",
       "      <td>...</td>\n",
       "      <td>...</td>\n",
       "      <td>...</td>\n",
       "      <td>...</td>\n",
       "      <td>...</td>\n",
       "    </tr>\n",
       "    <tr>\n",
       "      <th>16166</th>\n",
       "      <td>0.000057</td>\n",
       "      <td>0.000078</td>\n",
       "      <td>16164</td>\n",
       "      <td>12490</td>\n",
       "      <td>TNE0058</td>\n",
       "    </tr>\n",
       "    <tr>\n",
       "      <th>16167</th>\n",
       "      <td>0.000054</td>\n",
       "      <td>0.000068</td>\n",
       "      <td>16164</td>\n",
       "      <td>12564</td>\n",
       "      <td>TNE0058</td>\n",
       "    </tr>\n",
       "    <tr>\n",
       "      <th>16168</th>\n",
       "      <td>0.000054</td>\n",
       "      <td>0.000083</td>\n",
       "      <td>16164</td>\n",
       "      <td>12723</td>\n",
       "      <td>TNE0058</td>\n",
       "    </tr>\n",
       "    <tr>\n",
       "      <th>16169</th>\n",
       "      <td>0.000052</td>\n",
       "      <td>0.000072</td>\n",
       "      <td>16164</td>\n",
       "      <td>12802</td>\n",
       "      <td>TNE0058</td>\n",
       "    </tr>\n",
       "    <tr>\n",
       "      <th>16170</th>\n",
       "      <td>0.000053</td>\n",
       "      <td>0.000059</td>\n",
       "      <td>16164</td>\n",
       "      <td>12961</td>\n",
       "      <td>TNE0058</td>\n",
       "    </tr>\n",
       "  </tbody>\n",
       "</table>\n",
       "<p>16171 rows × 5 columns</p>\n",
       "</div>"
      ],
      "text/plain": [
       "       attn_scores_a1  attn_scores_a2  x_rank  y_rank   tne_id\n",
       "0            0.000059        0.000075       0      33  TNE0058\n",
       "1            0.000060        0.000075       1      33  TNE0058\n",
       "2            0.000064        0.000052       1      78  TNE0058\n",
       "3            0.000055        0.000079       3       2  TNE0058\n",
       "4            0.000061        0.000076       3      33  TNE0058\n",
       "...               ...             ...     ...     ...      ...\n",
       "16166        0.000057        0.000078   16164   12490  TNE0058\n",
       "16167        0.000054        0.000068   16164   12564  TNE0058\n",
       "16168        0.000054        0.000083   16164   12723  TNE0058\n",
       "16169        0.000052        0.000072   16164   12802  TNE0058\n",
       "16170        0.000053        0.000059   16164   12961  TNE0058\n",
       "\n",
       "[16171 rows x 5 columns]"
      ]
     },
     "execution_count": 139,
     "metadata": {},
     "output_type": "execute_result"
    }
   ],
   "source": []
  },
  {
   "cell_type": "code",
   "execution_count": 137,
   "metadata": {},
   "outputs": [
    {
     "data": {
      "text/plain": [
       "array(['TNE0058', 'TNE0058', 'TNE0058', ..., 'TNE0058', 'TNE0058',\n",
       "       'TNE0058'], dtype='<U7')"
      ]
     },
     "execution_count": 137,
     "metadata": {},
     "output_type": "execute_result"
    }
   ],
   "source": [
    "np.repeat(attn_scores_samples_id, attn_scores_df_c.shape[0])"
   ]
  },
  {
   "cell_type": "code",
   "execution_count": null,
   "metadata": {},
   "outputs": [],
   "source": []
  }
 ],
 "metadata": {
  "kernelspec": {
   "display_name": "HaloAE",
   "language": "python",
   "name": "python3"
  },
  "language_info": {
   "codemirror_mode": {
    "name": "ipython",
    "version": 3
   },
   "file_extension": ".py",
   "mimetype": "text/x-python",
   "name": "python",
   "nbconvert_exporter": "python",
   "pygments_lexer": "ipython3",
   "version": "3.6.13"
  }
 },
 "nbformat": 4,
 "nbformat_minor": 2
}
