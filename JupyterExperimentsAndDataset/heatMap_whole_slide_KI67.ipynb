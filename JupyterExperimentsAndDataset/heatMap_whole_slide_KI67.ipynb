{
 "cells": [
  {
   "cell_type": "code",
   "execution_count": 14,
   "id": "8900a319",
   "metadata": {},
   "outputs": [],
   "source": [
    "import matplotlib.pyplot as plt\n",
    "import matplotlib.colors\n",
    "import numpy as np\n",
    "import os\n",
    "import cv2\n",
    "import pandas as pd\n",
    "import argparse\n",
    "import shutil\n",
    "import seaborn as sns\n",
    "import json\n",
    "import h5py\n",
    "import glob\n",
    "from sklearn.metrics import roc_auc_score, average_precision_score, roc_curve"
   ]
  },
  {
   "cell_type": "markdown",
   "id": "311589cd",
   "metadata": {},
   "source": [
    "### Import scores "
   ]
  },
  {
   "cell_type": "code",
   "execution_count": 4,
   "id": "17288200",
   "metadata": {},
   "outputs": [],
   "source": [
    "root = \"/home/mathiane/LNENWork/data_RoFormerMIL_TumorSegExp/dataRoFormer/results/task_3_tumor_carcinoids_segmentation/debug/label_frac=100/BTRoPEAMIL_s_pixel/training/2024-02-25_15-39-57\""
   ]
  },
  {
   "cell_type": "code",
   "execution_count": 13,
   "id": "8b1a188b",
   "metadata": {},
   "outputs": [
    {
     "data": {
      "text/html": [
       "<div>\n",
       "<style scoped>\n",
       "    .dataframe tbody tr th:only-of-type {\n",
       "        vertical-align: middle;\n",
       "    }\n",
       "\n",
       "    .dataframe tbody tr th {\n",
       "        vertical-align: top;\n",
       "    }\n",
       "\n",
       "    .dataframe thead th {\n",
       "        text-align: right;\n",
       "    }\n",
       "</style>\n",
       "<table border=\"1\" class=\"dataframe\">\n",
       "  <thead>\n",
       "    <tr style=\"text-align: right;\">\n",
       "      <th></th>\n",
       "      <th>slide_id</th>\n",
       "      <th>preds</th>\n",
       "      <th>labels</th>\n",
       "      <th>probas</th>\n",
       "      <th>prob_non_tumor</th>\n",
       "      <th>prob_tumor</th>\n",
       "    </tr>\n",
       "  </thead>\n",
       "  <tbody>\n",
       "    <tr>\n",
       "      <th>0</th>\n",
       "      <td>TNE0531_T</td>\n",
       "      <td>1</td>\n",
       "      <td>1</td>\n",
       "      <td>[0.13245843350887299, 0.8675415515899658]</td>\n",
       "      <td>0.132458</td>\n",
       "      <td>0.867542</td>\n",
       "    </tr>\n",
       "    <tr>\n",
       "      <th>0</th>\n",
       "      <td>TNE0870_N</td>\n",
       "      <td>0</td>\n",
       "      <td>0</td>\n",
       "      <td>[0.8158934712409973, 0.1841064840555191]</td>\n",
       "      <td>0.815893</td>\n",
       "      <td>0.184106</td>\n",
       "    </tr>\n",
       "    <tr>\n",
       "      <th>0</th>\n",
       "      <td>TNE0060_T</td>\n",
       "      <td>1</td>\n",
       "      <td>1</td>\n",
       "      <td>[0.1761041283607483, 0.8238958716392517]</td>\n",
       "      <td>0.176104</td>\n",
       "      <td>0.823896</td>\n",
       "    </tr>\n",
       "    <tr>\n",
       "      <th>0</th>\n",
       "      <td>TNE1100_N</td>\n",
       "      <td>0</td>\n",
       "      <td>0</td>\n",
       "      <td>[0.8148276209831238, 0.18517237901687622]</td>\n",
       "      <td>0.814828</td>\n",
       "      <td>0.185172</td>\n",
       "    </tr>\n",
       "    <tr>\n",
       "      <th>0</th>\n",
       "      <td>TNE0058_N</td>\n",
       "      <td>0</td>\n",
       "      <td>0</td>\n",
       "      <td>[0.8304222822189331, 0.1695777177810669]</td>\n",
       "      <td>0.830422</td>\n",
       "      <td>0.169578</td>\n",
       "    </tr>\n",
       "  </tbody>\n",
       "</table>\n",
       "</div>"
      ],
      "text/plain": [
       "    slide_id  preds  labels                                     probas  \\\n",
       "0  TNE0531_T      1       1  [0.13245843350887299, 0.8675415515899658]   \n",
       "0  TNE0870_N      0       0   [0.8158934712409973, 0.1841064840555191]   \n",
       "0  TNE0060_T      1       1   [0.1761041283607483, 0.8238958716392517]   \n",
       "0  TNE1100_N      0       0  [0.8148276209831238, 0.18517237901687622]   \n",
       "0  TNE0058_N      0       0   [0.8304222822189331, 0.1695777177810669]   \n",
       "\n",
       "   prob_non_tumor  prob_tumor  \n",
       "0        0.132458    0.867542  \n",
       "0        0.815893    0.184106  \n",
       "0        0.176104    0.823896  \n",
       "0        0.814828    0.185172  \n",
       "0        0.830422    0.169578  "
      ]
     },
     "execution_count": 13,
     "metadata": {},
     "output_type": "execute_result"
    }
   ],
   "source": [
    "list_res_test = glob.glob(f\"{root}/patients_preds.parquet/*/*/*/*.parquet\")\n",
    "c = 0 \n",
    "for path_res in list_res_test:\n",
    "    df_res_c = pd.read_parquet(path_res)\n",
    "    df_res_c[\"prob_non_tumor\"] = df_res_c[\"probas\"].values[0][0]\n",
    "    df_res_c[\"prob_tumor\"] = df_res_c[\"probas\"].values[0][1]\n",
    "    if c == 0:\n",
    "        df_res = df_res_c     \n",
    "    else:\n",
    "        df_res = pd.concat([df_res, df_res_c])\n",
    "    c +=1\n",
    "df_res.head()"
   ]
  },
  {
   "cell_type": "code",
   "execution_count": 23,
   "id": "a072247a",
   "metadata": {},
   "outputs": [],
   "source": [
    "tne_all = []\n",
    "tne_id_tumor = []\n",
    "tne_id_non_tumor = []\n",
    "for ele in list(df_res[\"slide_id\"]):\n",
    "    tne_id = ele.split(\"_\")[0]\n",
    "    tne_all.append(tne_id)\n",
    "    if ele.split(\"_\")[1] == \"T\":\n",
    "        tne_id_tumor.append(tne_id)\n",
    "    else:\n",
    "        tne_id_non_tumor.append(tne_id)\n",
    "    \n"
   ]
  },
  {
   "cell_type": "code",
   "execution_count": 22,
   "id": "87b5328e",
   "metadata": {},
   "outputs": [
    {
     "data": {
      "text/plain": [
       "{'TNE0360',\n",
       " 'TNE0541',\n",
       " 'TNE0886',\n",
       " 'TNE0969',\n",
       " 'TNE1003',\n",
       " 'TNE1087',\n",
       " 'TNE1095',\n",
       " 'TNE1490'}"
      ]
     },
     "execution_count": 22,
     "metadata": {},
     "output_type": "execute_result"
    }
   ],
   "source": [
    "set(tne_id_tumor).intersection(set(tne_id_non_tumor))"
   ]
  },
  {
   "cell_type": "code",
   "execution_count": 24,
   "id": "0482e7cd",
   "metadata": {},
   "outputs": [],
   "source": [
    "df_res[\"TNEID\"] = tne_all"
   ]
  },
  {
   "cell_type": "code",
   "execution_count": 25,
   "id": "60ab6a1f",
   "metadata": {},
   "outputs": [
    {
     "data": {
      "text/html": [
       "<div>\n",
       "<style scoped>\n",
       "    .dataframe tbody tr th:only-of-type {\n",
       "        vertical-align: middle;\n",
       "    }\n",
       "\n",
       "    .dataframe tbody tr th {\n",
       "        vertical-align: top;\n",
       "    }\n",
       "\n",
       "    .dataframe thead th {\n",
       "        text-align: right;\n",
       "    }\n",
       "</style>\n",
       "<table border=\"1\" class=\"dataframe\">\n",
       "  <thead>\n",
       "    <tr style=\"text-align: right;\">\n",
       "      <th></th>\n",
       "      <th>slide_id</th>\n",
       "      <th>preds</th>\n",
       "      <th>labels</th>\n",
       "      <th>probas</th>\n",
       "      <th>prob_non_tumor</th>\n",
       "      <th>prob_tumor</th>\n",
       "      <th>TNEID</th>\n",
       "    </tr>\n",
       "  </thead>\n",
       "  <tbody>\n",
       "    <tr>\n",
       "      <th>0</th>\n",
       "      <td>TNE1003_T</td>\n",
       "      <td>1</td>\n",
       "      <td>1</td>\n",
       "      <td>[0.1609242558479309, 0.8390757441520691]</td>\n",
       "      <td>0.160924</td>\n",
       "      <td>0.839076</td>\n",
       "      <td>TNE1003</td>\n",
       "    </tr>\n",
       "    <tr>\n",
       "      <th>0</th>\n",
       "      <td>TNE0969_N</td>\n",
       "      <td>0</td>\n",
       "      <td>0</td>\n",
       "      <td>[0.8705697059631348, 0.12943023443222046]</td>\n",
       "      <td>0.870570</td>\n",
       "      <td>0.129430</td>\n",
       "      <td>TNE0969</td>\n",
       "    </tr>\n",
       "    <tr>\n",
       "      <th>0</th>\n",
       "      <td>TNE0541_T</td>\n",
       "      <td>1</td>\n",
       "      <td>1</td>\n",
       "      <td>[0.12759827077388763, 0.872401773929596]</td>\n",
       "      <td>0.127598</td>\n",
       "      <td>0.872402</td>\n",
       "      <td>TNE0541</td>\n",
       "    </tr>\n",
       "    <tr>\n",
       "      <th>0</th>\n",
       "      <td>TNE0360_T</td>\n",
       "      <td>1</td>\n",
       "      <td>1</td>\n",
       "      <td>[0.3808956742286682, 0.6191043257713318]</td>\n",
       "      <td>0.380896</td>\n",
       "      <td>0.619104</td>\n",
       "      <td>TNE0360</td>\n",
       "    </tr>\n",
       "    <tr>\n",
       "      <th>0</th>\n",
       "      <td>TNE0360_N</td>\n",
       "      <td>0</td>\n",
       "      <td>0</td>\n",
       "      <td>[0.8639090657234192, 0.13609088957309723]</td>\n",
       "      <td>0.863909</td>\n",
       "      <td>0.136091</td>\n",
       "      <td>TNE0360</td>\n",
       "    </tr>\n",
       "    <tr>\n",
       "      <th>0</th>\n",
       "      <td>TNE1003_N</td>\n",
       "      <td>0</td>\n",
       "      <td>0</td>\n",
       "      <td>[0.6808785796165466, 0.3191213607788086]</td>\n",
       "      <td>0.680879</td>\n",
       "      <td>0.319121</td>\n",
       "      <td>TNE1003</td>\n",
       "    </tr>\n",
       "    <tr>\n",
       "      <th>0</th>\n",
       "      <td>TNE1490_N</td>\n",
       "      <td>0</td>\n",
       "      <td>0</td>\n",
       "      <td>[0.6687450408935547, 0.3312549293041229]</td>\n",
       "      <td>0.668745</td>\n",
       "      <td>0.331255</td>\n",
       "      <td>TNE1490</td>\n",
       "    </tr>\n",
       "    <tr>\n",
       "      <th>0</th>\n",
       "      <td>TNE0886_N</td>\n",
       "      <td>0</td>\n",
       "      <td>0</td>\n",
       "      <td>[0.9245175123214722, 0.07548251003026962]</td>\n",
       "      <td>0.924518</td>\n",
       "      <td>0.075483</td>\n",
       "      <td>TNE0886</td>\n",
       "    </tr>\n",
       "    <tr>\n",
       "      <th>0</th>\n",
       "      <td>TNE1087_T</td>\n",
       "      <td>1</td>\n",
       "      <td>1</td>\n",
       "      <td>[0.004857966210693121, 0.9951419830322266]</td>\n",
       "      <td>0.004858</td>\n",
       "      <td>0.995142</td>\n",
       "      <td>TNE1087</td>\n",
       "    </tr>\n",
       "    <tr>\n",
       "      <th>0</th>\n",
       "      <td>TNE1490_T</td>\n",
       "      <td>1</td>\n",
       "      <td>1</td>\n",
       "      <td>[0.016737207770347595, 0.9832627773284912]</td>\n",
       "      <td>0.016737</td>\n",
       "      <td>0.983263</td>\n",
       "      <td>TNE1490</td>\n",
       "    </tr>\n",
       "    <tr>\n",
       "      <th>0</th>\n",
       "      <td>TNE1095_T</td>\n",
       "      <td>1</td>\n",
       "      <td>1</td>\n",
       "      <td>[0.005312204826623201, 0.9946877956390381]</td>\n",
       "      <td>0.005312</td>\n",
       "      <td>0.994688</td>\n",
       "      <td>TNE1095</td>\n",
       "    </tr>\n",
       "    <tr>\n",
       "      <th>0</th>\n",
       "      <td>TNE0541_N</td>\n",
       "      <td>0</td>\n",
       "      <td>0</td>\n",
       "      <td>[0.8801805377006531, 0.1198195070028305]</td>\n",
       "      <td>0.880181</td>\n",
       "      <td>0.119820</td>\n",
       "      <td>TNE0541</td>\n",
       "    </tr>\n",
       "    <tr>\n",
       "      <th>0</th>\n",
       "      <td>TNE1087_N</td>\n",
       "      <td>0</td>\n",
       "      <td>0</td>\n",
       "      <td>[0.6806265711784363, 0.3193734288215637]</td>\n",
       "      <td>0.680627</td>\n",
       "      <td>0.319373</td>\n",
       "      <td>TNE1087</td>\n",
       "    </tr>\n",
       "    <tr>\n",
       "      <th>0</th>\n",
       "      <td>TNE1095_N</td>\n",
       "      <td>0</td>\n",
       "      <td>0</td>\n",
       "      <td>[0.8261163830757141, 0.1738835871219635]</td>\n",
       "      <td>0.826116</td>\n",
       "      <td>0.173884</td>\n",
       "      <td>TNE1095</td>\n",
       "    </tr>\n",
       "    <tr>\n",
       "      <th>0</th>\n",
       "      <td>TNE0886_T</td>\n",
       "      <td>1</td>\n",
       "      <td>1</td>\n",
       "      <td>[0.08540366590023041, 0.9145963191986084]</td>\n",
       "      <td>0.085404</td>\n",
       "      <td>0.914596</td>\n",
       "      <td>TNE0886</td>\n",
       "    </tr>\n",
       "    <tr>\n",
       "      <th>0</th>\n",
       "      <td>TNE0969_T</td>\n",
       "      <td>1</td>\n",
       "      <td>1</td>\n",
       "      <td>[0.1729736477136612, 0.8270263671875]</td>\n",
       "      <td>0.172974</td>\n",
       "      <td>0.827026</td>\n",
       "      <td>TNE0969</td>\n",
       "    </tr>\n",
       "  </tbody>\n",
       "</table>\n",
       "</div>"
      ],
      "text/plain": [
       "    slide_id  preds  labels                                      probas  \\\n",
       "0  TNE1003_T      1       1    [0.1609242558479309, 0.8390757441520691]   \n",
       "0  TNE0969_N      0       0   [0.8705697059631348, 0.12943023443222046]   \n",
       "0  TNE0541_T      1       1    [0.12759827077388763, 0.872401773929596]   \n",
       "0  TNE0360_T      1       1    [0.3808956742286682, 0.6191043257713318]   \n",
       "0  TNE0360_N      0       0   [0.8639090657234192, 0.13609088957309723]   \n",
       "0  TNE1003_N      0       0    [0.6808785796165466, 0.3191213607788086]   \n",
       "0  TNE1490_N      0       0    [0.6687450408935547, 0.3312549293041229]   \n",
       "0  TNE0886_N      0       0   [0.9245175123214722, 0.07548251003026962]   \n",
       "0  TNE1087_T      1       1  [0.004857966210693121, 0.9951419830322266]   \n",
       "0  TNE1490_T      1       1  [0.016737207770347595, 0.9832627773284912]   \n",
       "0  TNE1095_T      1       1  [0.005312204826623201, 0.9946877956390381]   \n",
       "0  TNE0541_N      0       0    [0.8801805377006531, 0.1198195070028305]   \n",
       "0  TNE1087_N      0       0    [0.6806265711784363, 0.3193734288215637]   \n",
       "0  TNE1095_N      0       0    [0.8261163830757141, 0.1738835871219635]   \n",
       "0  TNE0886_T      1       1   [0.08540366590023041, 0.9145963191986084]   \n",
       "0  TNE0969_T      1       1       [0.1729736477136612, 0.8270263671875]   \n",
       "\n",
       "   prob_non_tumor  prob_tumor    TNEID  \n",
       "0        0.160924    0.839076  TNE1003  \n",
       "0        0.870570    0.129430  TNE0969  \n",
       "0        0.127598    0.872402  TNE0541  \n",
       "0        0.380896    0.619104  TNE0360  \n",
       "0        0.863909    0.136091  TNE0360  \n",
       "0        0.680879    0.319121  TNE1003  \n",
       "0        0.668745    0.331255  TNE1490  \n",
       "0        0.924518    0.075483  TNE0886  \n",
       "0        0.004858    0.995142  TNE1087  \n",
       "0        0.016737    0.983263  TNE1490  \n",
       "0        0.005312    0.994688  TNE1095  \n",
       "0        0.880181    0.119820  TNE0541  \n",
       "0        0.680627    0.319373  TNE1087  \n",
       "0        0.826116    0.173884  TNE1095  \n",
       "0        0.085404    0.914596  TNE0886  \n",
       "0        0.172974    0.827026  TNE0969  "
      ]
     },
     "execution_count": 25,
     "metadata": {},
     "output_type": "execute_result"
    }
   ],
   "source": [
    "df_res[df_res[\"TNEID\"].isin(set(tne_id_tumor).intersection(set(tne_id_non_tumor)))]"
   ]
  },
  {
   "cell_type": "code",
   "execution_count": 15,
   "id": "e92c64dd",
   "metadata": {},
   "outputs": [
    {
     "name": "stdout",
     "output_type": "stream",
     "text": [
      "0.9939446366782007\n"
     ]
    }
   ],
   "source": [
    "print(roc_auc_score(df_res['labels'], df_res['prob_tumor']))"
   ]
  },
  {
   "cell_type": "markdown",
   "id": "636228f4",
   "metadata": {},
   "source": [
    "## Create one heatmap"
   ]
  },
  {
   "cell_type": "markdown",
   "id": "dfc6a939",
   "metadata": {},
   "source": [
    "### Import attention scores"
   ]
  },
  {
   "cell_type": "code",
   "execution_count": 409,
   "id": "d2013277",
   "metadata": {},
   "outputs": [],
   "source": [
    "sample= \"TNE0531\""
   ]
  },
  {
   "cell_type": "code",
   "execution_count": 410,
   "id": "dc2643bf",
   "metadata": {},
   "outputs": [],
   "source": [
    "attn_scores_non_tumor = h5py.File(glob.glob(f\"{root}/attention_scores/*/{sample}_N.h5\")[0], 'r')"
   ]
  },
  {
   "cell_type": "code",
   "execution_count": 411,
   "id": "249c9148",
   "metadata": {},
   "outputs": [
    {
     "name": "stderr",
     "output_type": "stream",
     "text": [
      "/home/mathiane/miniconda3/envs/HaloAE/lib/python3.6/site-packages/ipykernel_launcher.py:1: H5pyDeprecationWarning: dataset.value has been deprecated. Use dataset[()] instead.\n",
      "  \"\"\"Entry point for launching an IPython kernel.\n"
     ]
    }
   ],
   "source": [
    "attn_scores_non_tumor_coords = attn_scores_non_tumor.get(\"coords\").value\n"
   ]
  },
  {
   "cell_type": "code",
   "execution_count": 412,
   "id": "2e69d9bf",
   "metadata": {},
   "outputs": [
    {
     "name": "stderr",
     "output_type": "stream",
     "text": [
      "/home/mathiane/miniconda3/envs/HaloAE/lib/python3.6/site-packages/ipykernel_launcher.py:1: H5pyDeprecationWarning: dataset.value has been deprecated. Use dataset[()] instead.\n",
      "  \"\"\"Entry point for launching an IPython kernel.\n"
     ]
    }
   ],
   "source": [
    "attn_scores_non_tumor = attn_scores_non_tumor.get(\"attention_scores\").value*10000"
   ]
  },
  {
   "cell_type": "code",
   "execution_count": 413,
   "id": "07732191",
   "metadata": {},
   "outputs": [],
   "source": [
    "attn_scores_non_tumor_avg = attn_scores_non_tumor[0,:,:].transpose().mean(axis=1)#.shape"
   ]
  },
  {
   "cell_type": "code",
   "execution_count": 414,
   "id": "1f8d4d50",
   "metadata": {},
   "outputs": [],
   "source": [
    "attn_scores_non_tumor = h5py.File(glob.glob(f\"{root}/attention_scores/*/{sample}_N.h5\")[0], 'r')\n"
   ]
  },
  {
   "cell_type": "code",
   "execution_count": 415,
   "id": "c0e128c8",
   "metadata": {},
   "outputs": [
    {
     "data": {
      "text/plain": [
       "(11991,)"
      ]
     },
     "execution_count": 415,
     "metadata": {},
     "output_type": "execute_result"
    }
   ],
   "source": [
    "attn_scores_non_tumor_coords[:,0].shape"
   ]
  },
  {
   "cell_type": "code",
   "execution_count": 416,
   "id": "d902e5bb",
   "metadata": {},
   "outputs": [],
   "source": [
    "Attn_scores_NonTumor = pd.DataFrame({\"x_rank\":attn_scores_non_tumor_coords[:,0],\n",
    "             \"y_rank\":attn_scores_non_tumor_coords[:,1], \n",
    "             \"attn_scores_avg\": attn_scores_non_tumor_avg,\n",
    "            \"label\": np.repeat(\"NonTumor\", attn_scores_non_tumor_coords[:,0].shape[0])})"
   ]
  },
  {
   "cell_type": "code",
   "execution_count": 417,
   "id": "ba9a19fc",
   "metadata": {},
   "outputs": [],
   "source": [
    "attn_scores_tumor = h5py.File(glob.glob(f\"{root}/attention_scores/*/{sample}_T.h5\")[0], 'r')"
   ]
  },
  {
   "cell_type": "code",
   "execution_count": 418,
   "id": "5e7d868b",
   "metadata": {},
   "outputs": [
    {
     "name": "stderr",
     "output_type": "stream",
     "text": [
      "/home/mathiane/miniconda3/envs/HaloAE/lib/python3.6/site-packages/ipykernel_launcher.py:1: H5pyDeprecationWarning: dataset.value has been deprecated. Use dataset[()] instead.\n",
      "  \"\"\"Entry point for launching an IPython kernel.\n",
      "/home/mathiane/miniconda3/envs/HaloAE/lib/python3.6/site-packages/ipykernel_launcher.py:2: H5pyDeprecationWarning: dataset.value has been deprecated. Use dataset[()] instead.\n",
      "  \n"
     ]
    }
   ],
   "source": [
    "attn_scores_tumor_coords = attn_scores_tumor.get(\"coords\").value\n",
    "attn_scores_tumor = attn_scores_tumor.get(\"attention_scores\").value*10000\n",
    "attn_scores_tumor_avg = attn_scores_tumor[0,:,:].transpose().mean(axis=1)"
   ]
  },
  {
   "cell_type": "code",
   "execution_count": 419,
   "id": "dcbcdcae",
   "metadata": {},
   "outputs": [],
   "source": [
    "Attn_scores_Tumor = pd.DataFrame({\"x_rank\":attn_scores_tumor_coords[:,0],\n",
    "             \"y_rank\":attn_scores_tumor_coords[:,1], \n",
    "             \"attn_scores_avg\": attn_scores_tumor_avg,\n",
    "             \"label\": np.repeat(\"Tumor\", attn_scores_tumor_coords[:,0].shape[0])})"
   ]
  },
  {
   "cell_type": "code",
   "execution_count": 420,
   "id": "5fb05625",
   "metadata": {},
   "outputs": [],
   "source": [
    "Attn_scores= pd.concat([Attn_scores_Tumor, Attn_scores_NonTumor]).reset_index()"
   ]
  },
  {
   "cell_type": "code",
   "execution_count": 421,
   "id": "f236d251",
   "metadata": {},
   "outputs": [
    {
     "data": {
      "text/html": [
       "<div>\n",
       "<style scoped>\n",
       "    .dataframe tbody tr th:only-of-type {\n",
       "        vertical-align: middle;\n",
       "    }\n",
       "\n",
       "    .dataframe tbody tr th {\n",
       "        vertical-align: top;\n",
       "    }\n",
       "\n",
       "    .dataframe thead th {\n",
       "        text-align: right;\n",
       "    }\n",
       "</style>\n",
       "<table border=\"1\" class=\"dataframe\">\n",
       "  <thead>\n",
       "    <tr style=\"text-align: right;\">\n",
       "      <th></th>\n",
       "      <th>index</th>\n",
       "      <th>x_rank</th>\n",
       "      <th>y_rank</th>\n",
       "      <th>attn_scores_avg</th>\n",
       "      <th>label</th>\n",
       "    </tr>\n",
       "  </thead>\n",
       "  <tbody>\n",
       "    <tr>\n",
       "      <th>0</th>\n",
       "      <td>0</td>\n",
       "      <td>0</td>\n",
       "      <td>994</td>\n",
       "      <td>0.503541</td>\n",
       "      <td>Tumor</td>\n",
       "    </tr>\n",
       "    <tr>\n",
       "      <th>1</th>\n",
       "      <td>1</td>\n",
       "      <td>1</td>\n",
       "      <td>803</td>\n",
       "      <td>0.503605</td>\n",
       "      <td>Tumor</td>\n",
       "    </tr>\n",
       "    <tr>\n",
       "      <th>2</th>\n",
       "      <td>2</td>\n",
       "      <td>1</td>\n",
       "      <td>898</td>\n",
       "      <td>0.503615</td>\n",
       "      <td>Tumor</td>\n",
       "    </tr>\n",
       "    <tr>\n",
       "      <th>3</th>\n",
       "      <td>3</td>\n",
       "      <td>1</td>\n",
       "      <td>994</td>\n",
       "      <td>0.503365</td>\n",
       "      <td>Tumor</td>\n",
       "    </tr>\n",
       "    <tr>\n",
       "      <th>4</th>\n",
       "      <td>4</td>\n",
       "      <td>1</td>\n",
       "      <td>1103</td>\n",
       "      <td>0.503367</td>\n",
       "      <td>Tumor</td>\n",
       "    </tr>\n",
       "  </tbody>\n",
       "</table>\n",
       "</div>"
      ],
      "text/plain": [
       "   index  x_rank  y_rank  attn_scores_avg  label\n",
       "0      0       0     994         0.503541  Tumor\n",
       "1      1       1     803         0.503605  Tumor\n",
       "2      2       1     898         0.503615  Tumor\n",
       "3      3       1     994         0.503365  Tumor\n",
       "4      4       1    1103         0.503367  Tumor"
      ]
     },
     "execution_count": 421,
     "metadata": {},
     "output_type": "execute_result"
    }
   ],
   "source": [
    "Attn_scores.head()"
   ]
  },
  {
   "cell_type": "code",
   "execution_count": 422,
   "id": "efe7e2e6",
   "metadata": {},
   "outputs": [
    {
     "data": {
      "text/plain": [
       "(19863, 5)"
      ]
     },
     "execution_count": 422,
     "metadata": {},
     "output_type": "execute_result"
    }
   ],
   "source": [
    "Attn_scores[Attn_scores[\"label\"] == \"Tumor\"].shape"
   ]
  },
  {
   "cell_type": "code",
   "execution_count": 423,
   "id": "f5ccaf54",
   "metadata": {},
   "outputs": [
    {
     "data": {
      "text/html": [
       "<div>\n",
       "<style scoped>\n",
       "    .dataframe tbody tr th:only-of-type {\n",
       "        vertical-align: middle;\n",
       "    }\n",
       "\n",
       "    .dataframe tbody tr th {\n",
       "        vertical-align: top;\n",
       "    }\n",
       "\n",
       "    .dataframe thead th {\n",
       "        text-align: right;\n",
       "    }\n",
       "</style>\n",
       "<table border=\"1\" class=\"dataframe\">\n",
       "  <thead>\n",
       "    <tr style=\"text-align: right;\">\n",
       "      <th></th>\n",
       "      <th>index</th>\n",
       "      <th>x_rank</th>\n",
       "      <th>y_rank</th>\n",
       "      <th>attn_scores_avg</th>\n",
       "      <th>label</th>\n",
       "    </tr>\n",
       "  </thead>\n",
       "  <tbody>\n",
       "    <tr>\n",
       "      <th>0</th>\n",
       "      <td>0</td>\n",
       "      <td>0</td>\n",
       "      <td>994</td>\n",
       "      <td>0.503541</td>\n",
       "      <td>Tumor</td>\n",
       "    </tr>\n",
       "    <tr>\n",
       "      <th>1</th>\n",
       "      <td>1</td>\n",
       "      <td>1</td>\n",
       "      <td>803</td>\n",
       "      <td>0.503605</td>\n",
       "      <td>Tumor</td>\n",
       "    </tr>\n",
       "    <tr>\n",
       "      <th>2</th>\n",
       "      <td>2</td>\n",
       "      <td>1</td>\n",
       "      <td>898</td>\n",
       "      <td>0.503615</td>\n",
       "      <td>Tumor</td>\n",
       "    </tr>\n",
       "    <tr>\n",
       "      <th>3</th>\n",
       "      <td>3</td>\n",
       "      <td>1</td>\n",
       "      <td>994</td>\n",
       "      <td>0.503365</td>\n",
       "      <td>Tumor</td>\n",
       "    </tr>\n",
       "    <tr>\n",
       "      <th>4</th>\n",
       "      <td>4</td>\n",
       "      <td>1</td>\n",
       "      <td>1103</td>\n",
       "      <td>0.503367</td>\n",
       "      <td>Tumor</td>\n",
       "    </tr>\n",
       "    <tr>\n",
       "      <th>...</th>\n",
       "      <td>...</td>\n",
       "      <td>...</td>\n",
       "      <td>...</td>\n",
       "      <td>...</td>\n",
       "      <td>...</td>\n",
       "    </tr>\n",
       "    <tr>\n",
       "      <th>19858</th>\n",
       "      <td>19858</td>\n",
       "      <td>19858</td>\n",
       "      <td>11068</td>\n",
       "      <td>0.503496</td>\n",
       "      <td>Tumor</td>\n",
       "    </tr>\n",
       "    <tr>\n",
       "      <th>19859</th>\n",
       "      <td>19859</td>\n",
       "      <td>19859</td>\n",
       "      <td>11068</td>\n",
       "      <td>0.503512</td>\n",
       "      <td>Tumor</td>\n",
       "    </tr>\n",
       "    <tr>\n",
       "      <th>19860</th>\n",
       "      <td>19860</td>\n",
       "      <td>19859</td>\n",
       "      <td>11594</td>\n",
       "      <td>0.503313</td>\n",
       "      <td>Tumor</td>\n",
       "    </tr>\n",
       "    <tr>\n",
       "      <th>19861</th>\n",
       "      <td>19861</td>\n",
       "      <td>19861</td>\n",
       "      <td>8531</td>\n",
       "      <td>0.503516</td>\n",
       "      <td>Tumor</td>\n",
       "    </tr>\n",
       "    <tr>\n",
       "      <th>19862</th>\n",
       "      <td>19862</td>\n",
       "      <td>19862</td>\n",
       "      <td>10933</td>\n",
       "      <td>0.503529</td>\n",
       "      <td>Tumor</td>\n",
       "    </tr>\n",
       "  </tbody>\n",
       "</table>\n",
       "<p>19863 rows × 5 columns</p>\n",
       "</div>"
      ],
      "text/plain": [
       "       index  x_rank  y_rank  attn_scores_avg  label\n",
       "0          0       0     994         0.503541  Tumor\n",
       "1          1       1     803         0.503605  Tumor\n",
       "2          2       1     898         0.503615  Tumor\n",
       "3          3       1     994         0.503365  Tumor\n",
       "4          4       1    1103         0.503367  Tumor\n",
       "...      ...     ...     ...              ...    ...\n",
       "19858  19858   19858   11068         0.503496  Tumor\n",
       "19859  19859   19859   11068         0.503512  Tumor\n",
       "19860  19860   19859   11594         0.503313  Tumor\n",
       "19861  19861   19861    8531         0.503516  Tumor\n",
       "19862  19862   19862   10933         0.503529  Tumor\n",
       "\n",
       "[19863 rows x 5 columns]"
      ]
     },
     "execution_count": 423,
     "metadata": {},
     "output_type": "execute_result"
    }
   ],
   "source": [
    "Attn_scores[Attn_scores[\"label\"] == \"Tumor\"]"
   ]
  },
  {
   "cell_type": "code",
   "execution_count": 424,
   "id": "29519896",
   "metadata": {},
   "outputs": [
    {
     "data": {
      "text/plain": [
       "(11991, 5)"
      ]
     },
     "execution_count": 424,
     "metadata": {},
     "output_type": "execute_result"
    }
   ],
   "source": [
    "Attn_scores[Attn_scores[\"label\"] == \"NonTumor\"].shape"
   ]
  },
  {
   "cell_type": "code",
   "execution_count": 425,
   "id": "8e16f587",
   "metadata": {},
   "outputs": [
    {
     "data": {
      "text/html": [
       "<div>\n",
       "<style scoped>\n",
       "    .dataframe tbody tr th:only-of-type {\n",
       "        vertical-align: middle;\n",
       "    }\n",
       "\n",
       "    .dataframe tbody tr th {\n",
       "        vertical-align: top;\n",
       "    }\n",
       "\n",
       "    .dataframe thead th {\n",
       "        text-align: right;\n",
       "    }\n",
       "</style>\n",
       "<table border=\"1\" class=\"dataframe\">\n",
       "  <thead>\n",
       "    <tr style=\"text-align: right;\">\n",
       "      <th></th>\n",
       "      <th>index</th>\n",
       "      <th>x_rank</th>\n",
       "      <th>y_rank</th>\n",
       "      <th>attn_scores_avg</th>\n",
       "      <th>label</th>\n",
       "    </tr>\n",
       "  </thead>\n",
       "  <tbody>\n",
       "    <tr>\n",
       "      <th>19863</th>\n",
       "      <td>0</td>\n",
       "      <td>0</td>\n",
       "      <td>1492</td>\n",
       "      <td>0.834557</td>\n",
       "      <td>NonTumor</td>\n",
       "    </tr>\n",
       "    <tr>\n",
       "      <th>19864</th>\n",
       "      <td>1</td>\n",
       "      <td>1</td>\n",
       "      <td>733</td>\n",
       "      <td>0.834394</td>\n",
       "      <td>NonTumor</td>\n",
       "    </tr>\n",
       "    <tr>\n",
       "      <th>19865</th>\n",
       "      <td>2</td>\n",
       "      <td>2</td>\n",
       "      <td>672</td>\n",
       "      <td>0.833838</td>\n",
       "      <td>NonTumor</td>\n",
       "    </tr>\n",
       "    <tr>\n",
       "      <th>19866</th>\n",
       "      <td>3</td>\n",
       "      <td>3</td>\n",
       "      <td>861</td>\n",
       "      <td>0.834044</td>\n",
       "      <td>NonTumor</td>\n",
       "    </tr>\n",
       "    <tr>\n",
       "      <th>19867</th>\n",
       "      <td>4</td>\n",
       "      <td>3</td>\n",
       "      <td>979</td>\n",
       "      <td>0.833642</td>\n",
       "      <td>NonTumor</td>\n",
       "    </tr>\n",
       "    <tr>\n",
       "      <th>...</th>\n",
       "      <td>...</td>\n",
       "      <td>...</td>\n",
       "      <td>...</td>\n",
       "      <td>...</td>\n",
       "      <td>...</td>\n",
       "    </tr>\n",
       "    <tr>\n",
       "      <th>31849</th>\n",
       "      <td>11986</td>\n",
       "      <td>11985</td>\n",
       "      <td>4237</td>\n",
       "      <td>0.833785</td>\n",
       "      <td>NonTumor</td>\n",
       "    </tr>\n",
       "    <tr>\n",
       "      <th>31850</th>\n",
       "      <td>11987</td>\n",
       "      <td>11985</td>\n",
       "      <td>4301</td>\n",
       "      <td>0.833401</td>\n",
       "      <td>NonTumor</td>\n",
       "    </tr>\n",
       "    <tr>\n",
       "      <th>31851</th>\n",
       "      <td>11988</td>\n",
       "      <td>11985</td>\n",
       "      <td>4662</td>\n",
       "      <td>0.834690</td>\n",
       "      <td>NonTumor</td>\n",
       "    </tr>\n",
       "    <tr>\n",
       "      <th>31852</th>\n",
       "      <td>11989</td>\n",
       "      <td>11985</td>\n",
       "      <td>4721</td>\n",
       "      <td>0.835029</td>\n",
       "      <td>NonTumor</td>\n",
       "    </tr>\n",
       "    <tr>\n",
       "      <th>31853</th>\n",
       "      <td>11990</td>\n",
       "      <td>11985</td>\n",
       "      <td>4779</td>\n",
       "      <td>0.833737</td>\n",
       "      <td>NonTumor</td>\n",
       "    </tr>\n",
       "  </tbody>\n",
       "</table>\n",
       "<p>11991 rows × 5 columns</p>\n",
       "</div>"
      ],
      "text/plain": [
       "       index  x_rank  y_rank  attn_scores_avg     label\n",
       "19863      0       0    1492         0.834557  NonTumor\n",
       "19864      1       1     733         0.834394  NonTumor\n",
       "19865      2       2     672         0.833838  NonTumor\n",
       "19866      3       3     861         0.834044  NonTumor\n",
       "19867      4       3     979         0.833642  NonTumor\n",
       "...      ...     ...     ...              ...       ...\n",
       "31849  11986   11985    4237         0.833785  NonTumor\n",
       "31850  11987   11985    4301         0.833401  NonTumor\n",
       "31851  11988   11985    4662         0.834690  NonTumor\n",
       "31852  11989   11985    4721         0.835029  NonTumor\n",
       "31853  11990   11985    4779         0.833737  NonTumor\n",
       "\n",
       "[11991 rows x 5 columns]"
      ]
     },
     "execution_count": 425,
     "metadata": {},
     "output_type": "execute_result"
    }
   ],
   "source": [
    "Attn_scores[Attn_scores[\"label\"] == \"NonTumor\"]"
   ]
  },
  {
   "cell_type": "code",
   "execution_count": 426,
   "id": "2fae0132",
   "metadata": {},
   "outputs": [
    {
     "data": {
      "text/plain": [
       "<seaborn.axisgrid.FacetGrid at 0x7f270f547fd0>"
      ]
     },
     "execution_count": 426,
     "metadata": {},
     "output_type": "execute_result"
    },
    {
     "data": {
      "image/png": "[encoded data removed]",
      "text/plain": [
       "<Figure size 426.625x360 with 1 Axes>"
      ]
     },
     "metadata": {
      "needs_background": "light"
     },
     "output_type": "display_data"
    }
   ],
   "source": [
    "sns.displot(data=Attn_scores[Attn_scores[\"label\"]==\"Tumor\"], x=\"attn_scores_avg\", hue = \"label\", kind=\"kde\")"
   ]
  },
  {
   "cell_type": "code",
   "execution_count": 427,
   "id": "ad76b928",
   "metadata": {},
   "outputs": [
    {
     "data": {
      "text/plain": [
       "<seaborn.axisgrid.FacetGrid at 0x7f270f8744a8>"
      ]
     },
     "execution_count": 427,
     "metadata": {},
     "output_type": "execute_result"
    },
    {
     "data": {
      "image/png": "[encoded data removed]",
      "text/plain": [
       "<Figure size 446.5x360 with 1 Axes>"
      ]
     },
     "metadata": {
      "needs_background": "light"
     },
     "output_type": "display_data"
    }
   ],
   "source": [
    "sns.displot(data=Attn_scores[Attn_scores[\"label\"]==\"NonTumor\"], x=\"attn_scores_avg\", hue = \"label\", kind=\"kde\")"
   ]
  },
  {
   "cell_type": "markdown",
   "id": "c94036c0",
   "metadata": {},
   "source": [
    "### Get coords table"
   ]
  },
  {
   "cell_type": "code",
   "execution_count": 428,
   "id": "2eefb27b",
   "metadata": {},
   "outputs": [],
   "source": [
    "Coords_root_folder = \"/home/mathiane/LNENWork/data_RoFormerMIL_TumorSegExp/coords_table\""
   ]
  },
  {
   "cell_type": "code",
   "execution_count": 429,
   "id": "a87702ca",
   "metadata": {},
   "outputs": [],
   "source": [
    "Coords_non_tumor_path = os.path.join(Coords_root_folder, \"NonTumor\", f\"{sample}_N_coords.csv\")\n",
    "Coords_tumor_path = os.path.join(Coords_root_folder, \"Tumor\", f\"{sample}_T_coords.csv\")\n",
    "\n",
    "Coords_non_tumor = pd.read_csv(Coords_non_tumor_path)\n",
    "Coords_non_tumor[\"label\"] = np.repeat(\"NonTumor\", Coords_non_tumor.shape[0])\n",
    "Coords_tumor = pd.read_csv(Coords_tumor_path)\n",
    "Coords_tumor[\"label\"] = np.repeat(\"Tumor\", Coords_tumor.shape[0])\n"
   ]
  },
  {
   "cell_type": "code",
   "execution_count": 430,
   "id": "2c2c3fea",
   "metadata": {},
   "outputs": [],
   "source": [
    "Coords = pd.concat([Coords_tumor,Coords_non_tumor ])"
   ]
  },
  {
   "cell_type": "code",
   "execution_count": 431,
   "id": "f42be945",
   "metadata": {},
   "outputs": [],
   "source": [
    "Attn_scores = pd.merge(Coords, Attn_scores,  how='left', left_on=['label','x_rank', 'y_rank'], right_on = ['label','x_rank', 'y_rank'])"
   ]
  },
  {
   "cell_type": "code",
   "execution_count": 432,
   "id": "7d5fc24c",
   "metadata": {},
   "outputs": [
    {
     "data": {
      "text/html": [
       "<div>\n",
       "<style scoped>\n",
       "    .dataframe tbody tr th:only-of-type {\n",
       "        vertical-align: middle;\n",
       "    }\n",
       "\n",
       "    .dataframe tbody tr th {\n",
       "        vertical-align: top;\n",
       "    }\n",
       "\n",
       "    .dataframe thead th {\n",
       "        text-align: right;\n",
       "    }\n",
       "</style>\n",
       "<table border=\"1\" class=\"dataframe\">\n",
       "  <thead>\n",
       "    <tr style=\"text-align: right;\">\n",
       "      <th></th>\n",
       "      <th>img_id_c</th>\n",
       "      <th>x</th>\n",
       "      <th>y</th>\n",
       "      <th>x_rank</th>\n",
       "      <th>y_rank</th>\n",
       "      <th>label</th>\n",
       "      <th>index</th>\n",
       "      <th>attn_scores_avg</th>\n",
       "    </tr>\n",
       "  </thead>\n",
       "  <tbody>\n",
       "    <tr>\n",
       "      <th>0</th>\n",
       "      <td>TNE0531_3073_12673</td>\n",
       "      <td>3073.0</td>\n",
       "      <td>12673</td>\n",
       "      <td>0</td>\n",
       "      <td>994</td>\n",
       "      <td>Tumor</td>\n",
       "      <td>0</td>\n",
       "      <td>0.503541</td>\n",
       "    </tr>\n",
       "    <tr>\n",
       "      <th>1</th>\n",
       "      <td>TNE0531_3457_11905</td>\n",
       "      <td>3457.0</td>\n",
       "      <td>11905</td>\n",
       "      <td>1</td>\n",
       "      <td>803</td>\n",
       "      <td>Tumor</td>\n",
       "      <td>1</td>\n",
       "      <td>0.503605</td>\n",
       "    </tr>\n",
       "    <tr>\n",
       "      <th>2</th>\n",
       "      <td>TNE0531_3457_12289</td>\n",
       "      <td>3457.0</td>\n",
       "      <td>12289</td>\n",
       "      <td>1</td>\n",
       "      <td>898</td>\n",
       "      <td>Tumor</td>\n",
       "      <td>2</td>\n",
       "      <td>0.503615</td>\n",
       "    </tr>\n",
       "    <tr>\n",
       "      <th>3</th>\n",
       "      <td>TNE0531_3457_12673</td>\n",
       "      <td>3457.0</td>\n",
       "      <td>12673</td>\n",
       "      <td>1</td>\n",
       "      <td>994</td>\n",
       "      <td>Tumor</td>\n",
       "      <td>3</td>\n",
       "      <td>0.503365</td>\n",
       "    </tr>\n",
       "    <tr>\n",
       "      <th>4</th>\n",
       "      <td>TNE0531_3457_13057</td>\n",
       "      <td>3457.0</td>\n",
       "      <td>13057</td>\n",
       "      <td>1</td>\n",
       "      <td>1103</td>\n",
       "      <td>Tumor</td>\n",
       "      <td>4</td>\n",
       "      <td>0.503367</td>\n",
       "    </tr>\n",
       "  </tbody>\n",
       "</table>\n",
       "</div>"
      ],
      "text/plain": [
       "             img_id_c       x      y  x_rank  y_rank  label  index  \\\n",
       "0  TNE0531_3073_12673  3073.0  12673       0     994  Tumor      0   \n",
       "1  TNE0531_3457_11905  3457.0  11905       1     803  Tumor      1   \n",
       "2  TNE0531_3457_12289  3457.0  12289       1     898  Tumor      2   \n",
       "3  TNE0531_3457_12673  3457.0  12673       1     994  Tumor      3   \n",
       "4  TNE0531_3457_13057  3457.0  13057       1    1103  Tumor      4   \n",
       "\n",
       "   attn_scores_avg  \n",
       "0         0.503541  \n",
       "1         0.503605  \n",
       "2         0.503615  \n",
       "3         0.503365  \n",
       "4         0.503367  "
      ]
     },
     "execution_count": 432,
     "metadata": {},
     "output_type": "execute_result"
    }
   ],
   "source": [
    "Attn_scores.head()"
   ]
  },
  {
   "cell_type": "markdown",
   "id": "4d37ce65",
   "metadata": {},
   "source": [
    "### Load parameters for tiles"
   ]
  },
  {
   "cell_type": "code",
   "execution_count": 433,
   "id": "0b0dda0e",
   "metadata": {},
   "outputs": [],
   "source": [
    "rootdir = '/home/mathiane/LNENWork/PathonetCombinedDataSet2/PredBreastLNENDataset2Epoch50'\n",
    "args = dict()\n",
    "args['sample'] = sample\n",
    "args['folder_tumoral_tiles'] ='/home/mathiane/LNENWork/Tiles_HE_all_samples_384_384_Vahadane_2'\n",
    "args['folder_WSI_jpg'] =  '/home/mathiane/LNENWork/FullSlidesToJpeg'\n"
   ]
  },
  {
   "cell_type": "code",
   "execution_count": 434,
   "id": "89806ace",
   "metadata": {},
   "outputs": [],
   "source": [
    "Q1 = Attn_scores[\"attn_scores_avg\"].quantile(0.1)\n",
    "Q9 = Attn_scores[\"attn_scores_avg\"].quantile(0.9)"
   ]
  },
  {
   "cell_type": "markdown",
   "id": "4e799c22",
   "metadata": {},
   "source": [
    "# Split DataSet by sample's name"
   ]
  },
  {
   "cell_type": "code",
   "execution_count": 435,
   "id": "735b389f",
   "metadata": {},
   "outputs": [
    {
     "data": {
      "text/plain": [
       "'TNE0531.svs'"
      ]
     },
     "execution_count": 435,
     "metadata": {},
     "output_type": "execute_result"
    }
   ],
   "source": [
    "path_main_TNE = args[\"folder_tumoral_tiles\"]\n",
    "for f in os.listdir(path_main_TNE):\n",
    "    if f.find(args['sample']) != -1:\n",
    "        folder_name = f\n",
    "        break\n",
    "folder_name"
   ]
  },
  {
   "cell_type": "code",
   "execution_count": 436,
   "id": "ce0c4906",
   "metadata": {},
   "outputs": [],
   "source": [
    "outputdir = '/home/mathiane/LNENWork/data_RoFormerMIL_TumorSegExp/dataRoFormer/results/task_3_tumor_carcinoids_segmentation/debug/label_frac=100/BTRoPEAMIL_s_pixel/HeatMaps'"
   ]
  },
  {
   "cell_type": "code",
   "execution_count": 437,
   "id": "664f6cdd",
   "metadata": {},
   "outputs": [],
   "source": [
    "os.makedirs(os.path.join(outputdir, sample), exist_ok = True)"
   ]
  },
  {
   "cell_type": "code",
   "execution_count": 438,
   "id": "53e27124",
   "metadata": {},
   "outputs": [
    {
     "data": {
      "text/plain": [
       "'TNE0531'"
      ]
     },
     "execution_count": 438,
     "metadata": {},
     "output_type": "execute_result"
    }
   ],
   "source": [
    "sample"
   ]
  },
  {
   "cell_type": "code",
   "execution_count": 439,
   "id": "3a97e39d",
   "metadata": {},
   "outputs": [
    {
     "data": {
      "text/plain": [
       "{'TNE0531': [100993, 93697]}"
      ]
     },
     "execution_count": 439,
     "metadata": {},
     "output_type": "execute_result"
    }
   ],
   "source": [
    "sample_maxX_maxY = {}\n",
    "path_main_TNE = args[\"folder_tumoral_tiles\"]#args.path_tne_tiles\n",
    "sample = sample\n",
    "\n",
    "sample_folder = os.path.join(path_main_TNE, folder_name)\n",
    "\n",
    "xmax = 0\n",
    "ymax = 0\n",
    "for folder in os.listdir(sample_folder):\n",
    "    tiles_p = os.path.join(path_main_TNE, folder_name, folder)\n",
    "    for tiles_l in os.listdir(tiles_p):\n",
    "        xmax_c = int(tiles_l.split('_')[1])\n",
    "        ymax_c  = int(tiles_l.split('_')[2].split('.')[0])\n",
    "        if xmax < xmax_c:\n",
    "            xmax = xmax_c\n",
    "        else:\n",
    "            xmax = xmax\n",
    "        if ymax < ymax_c:\n",
    "            ymax = ymax_c\n",
    "        else:\n",
    "            ymax = ymax\n",
    "\n",
    "sample_maxX_maxY[sample] = [xmax, ymax]\n",
    "sample_maxX_maxY\n",
    "    "
   ]
  },
  {
   "cell_type": "code",
   "execution_count": 440,
   "id": "01e47f10",
   "metadata": {},
   "outputs": [],
   "source": [
    "from scipy import stats"
   ]
  },
  {
   "cell_type": "code",
   "execution_count": 441,
   "id": "98b81257",
   "metadata": {},
   "outputs": [],
   "source": [
    "im_size = 384"
   ]
  },
  {
   "cell_type": "code",
   "execution_count": 442,
   "id": "36ad8aaa",
   "metadata": {},
   "outputs": [],
   "source": [
    "full_LNEN_WSI = args['folder_WSI_jpg']\n",
    "for f in  os.listdir(full_LNEN_WSI):\n",
    "\n",
    "    if f.find(args['sample'][:7]) != -1:\n",
    "        folder_name_full_size = f\n",
    "        break"
   ]
  },
  {
   "cell_type": "code",
   "execution_count": 443,
   "id": "e80bdd8b",
   "metadata": {},
   "outputs": [
    {
     "data": {
      "text/plain": [
       "'TNE0531.jpg'"
      ]
     },
     "execution_count": 443,
     "metadata": {},
     "output_type": "execute_result"
    }
   ],
   "source": [
    "folder_name_full_size"
   ]
  },
  {
   "cell_type": "code",
   "execution_count": 444,
   "id": "090c6bfc",
   "metadata": {},
   "outputs": [
    {
     "data": {
      "text/plain": [
       "100993.0"
      ]
     },
     "execution_count": 444,
     "metadata": {},
     "output_type": "execute_result"
    }
   ],
   "source": [
    "Attn_scores[\"x\"].max()"
   ]
  },
  {
   "cell_type": "code",
   "execution_count": 445,
   "id": "4f66145e",
   "metadata": {},
   "outputs": [
    {
     "data": {
      "text/plain": [
       "93697"
      ]
     },
     "execution_count": 445,
     "metadata": {},
     "output_type": "execute_result"
    }
   ],
   "source": [
    "Attn_scores[\"y\"].max()"
   ]
  },
  {
   "cell_type": "code",
   "execution_count": 446,
   "id": "658d95ca",
   "metadata": {},
   "outputs": [],
   "source": [
    "for k in sample_maxX_maxY.keys():\n",
    "    w =  tuple(sample_maxX_maxY[k])[0] + im_size\n",
    "    h = tuple(sample_maxX_maxY[k])[1] + im_size        \n",
    "    seq = im_size\n",
    "    W = len(list(range(1, w, seq)))\n",
    "    H = len(list(range(1, h, seq)))\n",
    "    \n",
    "    mat_prob_atypical =   np.empty((W*10, H*10))#-1\n",
    "    mat_prob_atypical[:] =  np.NaN\n",
    "    \n",
    "    mat_prob_binary = np.empty((W*10, H*10))\n",
    "    mat_prob_binary[:] =  np.NaN\n",
    "        \n",
    "df_test_pred_s = Attn_scores\n",
    "        "
   ]
  },
  {
   "cell_type": "code",
   "execution_count": 447,
   "id": "9ab6e81d",
   "metadata": {},
   "outputs": [
    {
     "data": {
      "text/html": [
       "<div>\n",
       "<style scoped>\n",
       "    .dataframe tbody tr th:only-of-type {\n",
       "        vertical-align: middle;\n",
       "    }\n",
       "\n",
       "    .dataframe tbody tr th {\n",
       "        vertical-align: top;\n",
       "    }\n",
       "\n",
       "    .dataframe thead th {\n",
       "        text-align: right;\n",
       "    }\n",
       "</style>\n",
       "<table border=\"1\" class=\"dataframe\">\n",
       "  <thead>\n",
       "    <tr style=\"text-align: right;\">\n",
       "      <th></th>\n",
       "      <th>img_id_c</th>\n",
       "      <th>x</th>\n",
       "      <th>y</th>\n",
       "      <th>x_rank</th>\n",
       "      <th>y_rank</th>\n",
       "      <th>label</th>\n",
       "      <th>index</th>\n",
       "      <th>attn_scores_avg</th>\n",
       "    </tr>\n",
       "  </thead>\n",
       "  <tbody>\n",
       "    <tr>\n",
       "      <th>0</th>\n",
       "      <td>TNE0531_3073_12673</td>\n",
       "      <td>3073.0</td>\n",
       "      <td>12673</td>\n",
       "      <td>0</td>\n",
       "      <td>994</td>\n",
       "      <td>Tumor</td>\n",
       "      <td>0</td>\n",
       "      <td>0.503541</td>\n",
       "    </tr>\n",
       "    <tr>\n",
       "      <th>1</th>\n",
       "      <td>TNE0531_3457_11905</td>\n",
       "      <td>3457.0</td>\n",
       "      <td>11905</td>\n",
       "      <td>1</td>\n",
       "      <td>803</td>\n",
       "      <td>Tumor</td>\n",
       "      <td>1</td>\n",
       "      <td>0.503605</td>\n",
       "    </tr>\n",
       "    <tr>\n",
       "      <th>2</th>\n",
       "      <td>TNE0531_3457_12289</td>\n",
       "      <td>3457.0</td>\n",
       "      <td>12289</td>\n",
       "      <td>1</td>\n",
       "      <td>898</td>\n",
       "      <td>Tumor</td>\n",
       "      <td>2</td>\n",
       "      <td>0.503615</td>\n",
       "    </tr>\n",
       "    <tr>\n",
       "      <th>3</th>\n",
       "      <td>TNE0531_3457_12673</td>\n",
       "      <td>3457.0</td>\n",
       "      <td>12673</td>\n",
       "      <td>1</td>\n",
       "      <td>994</td>\n",
       "      <td>Tumor</td>\n",
       "      <td>3</td>\n",
       "      <td>0.503365</td>\n",
       "    </tr>\n",
       "    <tr>\n",
       "      <th>4</th>\n",
       "      <td>TNE0531_3457_13057</td>\n",
       "      <td>3457.0</td>\n",
       "      <td>13057</td>\n",
       "      <td>1</td>\n",
       "      <td>1103</td>\n",
       "      <td>Tumor</td>\n",
       "      <td>4</td>\n",
       "      <td>0.503367</td>\n",
       "    </tr>\n",
       "  </tbody>\n",
       "</table>\n",
       "</div>"
      ],
      "text/plain": [
       "             img_id_c       x      y  x_rank  y_rank  label  index  \\\n",
       "0  TNE0531_3073_12673  3073.0  12673       0     994  Tumor      0   \n",
       "1  TNE0531_3457_11905  3457.0  11905       1     803  Tumor      1   \n",
       "2  TNE0531_3457_12289  3457.0  12289       1     898  Tumor      2   \n",
       "3  TNE0531_3457_12673  3457.0  12673       1     994  Tumor      3   \n",
       "4  TNE0531_3457_13057  3457.0  13057       1    1103  Tumor      4   \n",
       "\n",
       "   attn_scores_avg  \n",
       "0         0.503541  \n",
       "1         0.503605  \n",
       "2         0.503615  \n",
       "3         0.503365  \n",
       "4         0.503367  "
      ]
     },
     "execution_count": 447,
     "metadata": {},
     "output_type": "execute_result"
    }
   ],
   "source": [
    "df_test_pred_s.head()"
   ]
  },
  {
   "cell_type": "code",
   "execution_count": 448,
   "id": "8bfe4b1c",
   "metadata": {},
   "outputs": [
    {
     "data": {
      "text/plain": [
       "['TNE0531']"
      ]
     },
     "execution_count": 448,
     "metadata": {},
     "output_type": "execute_result"
    }
   ],
   "source": [
    "[args[\"sample\"]]"
   ]
  },
  {
   "cell_type": "code",
   "execution_count": 449,
   "id": "63b355f4",
   "metadata": {},
   "outputs": [
    {
     "name": "stdout",
     "output_type": "stream",
     "text": [
      "get_full_img   /home/mathiane/LNENWork/FullSlidesToJpeg/TNE0531.jpg\n",
      "/home/mathiane/LNENWork/data_RoFormerMIL_TumorSegExp/dataRoFormer/results/task_3_tumor_carcinoids_segmentation/debug/label_frac=100/BTRoPEAMIL_s_pixel/HeatMaps TNE0531_RoFormerMIL_ WSI_TNE0531.png\n"
     ]
    }
   ],
   "source": [
    "Path2Image = []\n",
    "PredTumorNomal = []\n",
    "loss_t = \"Attention_scores\"\n",
    "for k in sample_maxX_maxY.keys():\n",
    "    if k in [args[\"sample\"]]:    \n",
    "        for i in range(df_test_pred_s.shape[0]):\n",
    "            x_ = int(df_test_pred_s.iloc[i,:]['x'])\n",
    "            y_ = int(df_test_pred_s.iloc[i,:]['y'])\n",
    "            \n",
    "            Path2Image.append(df_test_pred_s.iloc[i,:]['img_id_c'])\n",
    "            \n",
    "            mat_prob_atypical[x_ // im_size * 10 :x_ // im_size *10 + 10 ,  y_ // im_size * 10 :y_ // im_size * 10 + 10 ]= df_test_pred_s.iloc[i,df_test_pred_s.columns.get_loc('attn_scores_avg')]\n",
    "  \n",
    "            \n",
    "        if k.find('TNE') != -1:\n",
    "            get_full_img = full_LNEN_WSI + \"/\" +folder_name_full_size\n",
    "            print('get_full_img  ', get_full_img)\n",
    "\n",
    "        im = cv2.imread(get_full_img)\n",
    "        im = cv2.cvtColor(im, cv2.COLOR_BGR2RGB)\n",
    "        fig=plt.figure(1,figsize=(8,8))\n",
    "        plt.imshow(im.astype('uint8'))\n",
    "\n",
    "        print(outputdir, k+'_RoFormerMIL_','WSI_{}.png'.format(k))\n",
    "        plt.title('WSI_{}'.format(k))\n",
    "        fig.savefig(os.path.join(outputdir, k,'WSI_{}.png'.format(k)), dpi=fig.dpi)\n",
    "        plt.close()\n",
    "\n",
    "        #tiles heat map sans normalisation\n",
    "        \n",
    "        color_map = plt.cm.get_cmap('coolwarm')\n",
    "        fig=plt.figure(2,figsize=(8,8))\n",
    "        plt.matshow(mat_prob_atypical,  cmap=color_map,\n",
    "                    interpolation='none',  fignum=2, vmin=Q1, \n",
    "                    vmax =Q9)\n",
    "        mtitle = 'Normal tiles scores sample {} '.format(k)\n",
    "        plt.title(mtitle)\n",
    "        plt.colorbar()\n",
    "        fig.savefig(os.path.join(outputdir, k,'Normality_tiles_accept_reject_map_minmaxnorm_{}_{}.png'.format(k, loss_t)), dpi=fig.dpi)\n",
    "        plt.colorbar()\n",
    "        plt.close()\n",
    "                \n",
    "       \n",
    "        \n",
    "        color_map = plt.cm.get_cmap('coolwarm')\n",
    "        fig=plt.figure(4,figsize=(8,8))\n",
    "        plt.matshow(mat_prob_atypical,  cmap=color_map,\n",
    "                    interpolation='none',  fignum=4)\n",
    "        mtitle = 'Normal tiles scores sample {} '.format(k)\n",
    "        plt.title(mtitle)\n",
    "        plt.colorbar()\n",
    "        fig.savefig(os.path.join(outputdir, k,'Normality_tiles_accept_reject_map_{}_{}.png'.format(k, loss_t)), dpi=fig.dpi)\n",
    "        plt.colorbar()\n",
    "        plt.close()\n",
    "    "
   ]
  },
  {
   "cell_type": "code",
   "execution_count": 450,
   "id": "0a0f2036",
   "metadata": {
    "scrolled": true
   },
   "outputs": [
    {
     "data": {
      "text/plain": [
       "'TNE0531'"
      ]
     },
     "execution_count": 450,
     "metadata": {},
     "output_type": "execute_result"
    }
   ],
   "source": [
    "sample"
   ]
  },
  {
   "cell_type": "markdown",
   "id": "bae4c5be",
   "metadata": {},
   "source": [
    "Copy paste dans un nouveau folder qui regroupe les images avec le meilleur score, juste pour voir si le tri a bien ete fait"
   ]
  },
  {
   "cell_type": "code",
   "execution_count": null,
   "id": "5defd43a",
   "metadata": {},
   "outputs": [],
   "source": []
  },
  {
   "cell_type": "code",
   "execution_count": 428,
   "id": "da5c2469",
   "metadata": {},
   "outputs": [],
   "source": [
    "os.makedirs(os.path.join(outputdir, k+'_heatMap','MostDiscrimiant'), exist_ok = True)"
   ]
  },
  {
   "cell_type": "code",
   "execution_count": 429,
   "id": "7425b5fe",
   "metadata": {},
   "outputs": [],
   "source": [
    "os.makedirs(os.path.join(outputdir, k+'_heatMap','LessDiscrimiant'), exist_ok=True)"
   ]
  },
  {
   "cell_type": "code",
   "execution_count": 430,
   "id": "71daace8",
   "metadata": {},
   "outputs": [],
   "source": [
    "df_test_pred_s = df_test_pred_s.sort_values('lossnorm_max')"
   ]
  },
  {
   "cell_type": "code",
   "execution_count": 431,
   "id": "8d4280f5",
   "metadata": {},
   "outputs": [],
   "source": [
    "for ele in list(df_test_pred_s['Path2Image'][:20]):\n",
    "    nname  = '/home/mathiane/LNENWork' + ele[29:]\n",
    "    shutil.copy('/home/mathiane/LNENWork' + ele[29:], os.path.join(outputdir, k+'_heatMap','MostDiscrimiant'))"
   ]
  },
  {
   "cell_type": "code",
   "execution_count": 432,
   "id": "e26ac538",
   "metadata": {},
   "outputs": [],
   "source": [
    "df_test_pred_s = df_test_pred_s.sort_values('lossnorm_max', ascending = False)\n",
    "for ele in list(df_test_pred_s['Path2Image'][:20]):\n",
    "    nname  = '/home/mathiane/LNENWork' + ele[29:]\n",
    "    shutil.copy('/home/mathiane/LNENWork' + ele[29:], os.path.join(outputdir, k+'_heatMap','LessDiscrimiant'))"
   ]
  },
  {
   "cell_type": "code",
   "execution_count": null,
   "id": "8ec1d7a7",
   "metadata": {},
   "outputs": [],
   "source": []
  },
  {
   "cell_type": "code",
   "execution_count": null,
   "id": "55118ead",
   "metadata": {},
   "outputs": [],
   "source": []
  },
  {
   "cell_type": "code",
   "execution_count": null,
   "id": "11024bf3",
   "metadata": {},
   "outputs": [],
   "source": []
  },
  {
   "cell_type": "code",
   "execution_count": null,
   "id": "3a71362a",
   "metadata": {},
   "outputs": [],
   "source": []
  },
  {
   "cell_type": "code",
   "execution_count": null,
   "id": "d206e4af",
   "metadata": {},
   "outputs": [],
   "source": []
  },
  {
   "cell_type": "code",
   "execution_count": null,
   "id": "4361cc18",
   "metadata": {},
   "outputs": [],
   "source": []
  },
  {
   "cell_type": "code",
   "execution_count": null,
   "id": "1b3f3376",
   "metadata": {},
   "outputs": [],
   "source": []
  },
  {
   "cell_type": "code",
   "execution_count": null,
   "id": "b2dbe490",
   "metadata": {},
   "outputs": [],
   "source": []
  },
  {
   "cell_type": "code",
   "execution_count": null,
   "id": "515c3ec8",
   "metadata": {},
   "outputs": [],
   "source": []
  },
  {
   "cell_type": "code",
   "execution_count": null,
   "id": "cf97e36b",
   "metadata": {},
   "outputs": [],
   "source": []
  },
  {
   "cell_type": "code",
   "execution_count": null,
   "id": "4ababa3a",
   "metadata": {},
   "outputs": [],
   "source": []
  },
  {
   "cell_type": "code",
   "execution_count": null,
   "id": "58061112",
   "metadata": {},
   "outputs": [],
   "source": []
  },
  {
   "cell_type": "code",
   "execution_count": null,
   "id": "c3620a34",
   "metadata": {},
   "outputs": [],
   "source": []
  },
  {
   "cell_type": "code",
   "execution_count": null,
   "id": "c56f0daf",
   "metadata": {},
   "outputs": [],
   "source": []
  },
  {
   "cell_type": "code",
   "execution_count": null,
   "id": "4ee3048d",
   "metadata": {},
   "outputs": [],
   "source": []
  },
  {
   "cell_type": "code",
   "execution_count": null,
   "id": "18f284ac",
   "metadata": {},
   "outputs": [],
   "source": []
  },
  {
   "cell_type": "code",
   "execution_count": null,
   "id": "391394e3",
   "metadata": {},
   "outputs": [],
   "source": []
  },
  {
   "cell_type": "code",
   "execution_count": null,
   "id": "d4a24728",
   "metadata": {},
   "outputs": [],
   "source": []
  },
  {
   "cell_type": "code",
   "execution_count": null,
   "id": "67a66614",
   "metadata": {},
   "outputs": [],
   "source": []
  },
  {
   "cell_type": "code",
   "execution_count": null,
   "id": "d42d5f3a",
   "metadata": {},
   "outputs": [],
   "source": []
  },
  {
   "cell_type": "code",
   "execution_count": null,
   "id": "da530760",
   "metadata": {},
   "outputs": [],
   "source": []
  },
  {
   "cell_type": "code",
   "execution_count": null,
   "id": "63ac1bf5",
   "metadata": {},
   "outputs": [],
   "source": []
  },
  {
   "cell_type": "code",
   "execution_count": null,
   "id": "ca9890f5",
   "metadata": {},
   "outputs": [],
   "source": []
  },
  {
   "cell_type": "code",
   "execution_count": null,
   "id": "6ca7a602",
   "metadata": {},
   "outputs": [],
   "source": []
  },
  {
   "cell_type": "code",
   "execution_count": null,
   "id": "de46a4aa",
   "metadata": {},
   "outputs": [],
   "source": []
  }
 ],
 "metadata": {
  "kernelspec": {
   "display_name": "Python 3",
   "language": "python",
   "name": "python3"
  },
  "language_info": {
   "codemirror_mode": {
    "name": "ipython",
    "version": 3
   },
   "file_extension": ".py",
   "mimetype": "text/x-python",
   "name": "python",
   "nbconvert_exporter": "python",
   "pygments_lexer": "ipython3",
   "version": "3.6.13"
  }
 },
 "nbformat": 4,
 "nbformat_minor": 5
}
