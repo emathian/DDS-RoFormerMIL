{
 "cells": [
  {
   "cell_type": "code",
   "execution_count": 50,
   "metadata": {},
   "outputs": [],
   "source": [
    "import os \n",
    "import pandas as pd\n",
    "import numpy as np"
   ]
  },
  {
   "cell_type": "code",
   "execution_count": 51,
   "metadata": {},
   "outputs": [],
   "source": [
    "root = \"/home/mathiane/LNENWork/SamplesWSITCGA\"\n",
    "class_svs = \"LUAD\"\n",
    "patient_id  = os.listdir(os.path.join(root, class_svs))"
   ]
  },
  {
   "cell_type": "code",
   "execution_count": 52,
   "metadata": {},
   "outputs": [
    {
     "data": {
      "text/plain": [
       "['TCGA-05-4244-01Z-00-DX1.jpg',\n",
       " 'TCGA-05-4382-01Z-00-DX1.svs',\n",
       " 'TCGA-05-4395-01Z-00-DX1.svs',\n",
       " 'TCGA-05-4382-01Z-00-DX1.jpg',\n",
       " 'TCGA-05-4397-01Z-00-DX1.jpg',\n",
       " 'TCGA-05-4395-01Z-00-DX1.jpg',\n",
       " 'TCGA-05-4250-01Z-00-DX1.svs',\n",
       " 'TCGA-05-4249-01Z-00-DX1.jpg',\n",
       " 'TCGA-05-4250-01Z-00-DX1.jpg',\n",
       " 'TCGA-05-4244-01Z-00-DX1.svs',\n",
       " 'TCGA-05-4245-01Z-00-DX1.svs',\n",
       " 'TCGA-05-4396-01Z-00-DX1.svs',\n",
       " 'TCGA-05-4245-01Z-00-DX1.jpg',\n",
       " 'TCGA-05-4397-01Z-00-DX1.svs',\n",
       " 'TCGA-05-4249-01Z-00-DX1.svs',\n",
       " 'TCGA-05-4396-01Z-00-DX1.jpg']"
      ]
     },
     "execution_count": 52,
     "metadata": {},
     "output_type": "execute_result"
    }
   ],
   "source": [
    "patient_id"
   ]
  },
  {
   "cell_type": "code",
   "execution_count": 53,
   "metadata": {},
   "outputs": [],
   "source": [
    "patient_id = [p.split(\".\")[0] for p in patient_id  if p.split(\".\")[1] == \"svs\" ]"
   ]
  },
  {
   "cell_type": "code",
   "execution_count": 54,
   "metadata": {},
   "outputs": [],
   "source": [
    "pd.DataFrame({\"case_id\":patient_id,\n",
    "             \"slide_id\" : patient_id,\n",
    "             \"label_id\" : np.repeat(class_svs, [len(patient_id)], axis=0).tolist()}).to_csv(\"data/LUAD/slides_format.csv\")\n"
   ]
  },
  {
   "cell_type": "code",
   "execution_count": 55,
   "metadata": {},
   "outputs": [],
   "source": [
    "class_svs = \"LUSC\"\n",
    "patient_id  = os.listdir(os.path.join(root, class_svs))\n",
    "patient_id = [p.split(\".\")[0] for p in patient_id  if p.split(\".\")[1] == \"svs\" ]"
   ]
  },
  {
   "cell_type": "code",
   "execution_count": 56,
   "metadata": {},
   "outputs": [],
   "source": [
    "pd.DataFrame({\"case_id\": patient_id,\n",
    "             \"slide_id\" : patient_id,\n",
    "             \"label_id\" : np.repeat(class_svs, [len(patient_id)], axis=0).tolist()}).to_csv(\"data/LUSC/slides_format.csv\")"
   ]
  },
  {
   "cell_type": "code",
   "execution_count": null,
   "metadata": {},
   "outputs": [],
   "source": []
  },
  {
   "cell_type": "code",
   "execution_count": null,
   "metadata": {},
   "outputs": [],
   "source": []
  },
  {
   "cell_type": "code",
   "execution_count": null,
   "metadata": {},
   "outputs": [],
   "source": []
  },
  {
   "cell_type": "code",
   "execution_count": null,
   "metadata": {},
   "outputs": [],
   "source": []
  },
  {
   "cell_type": "code",
   "execution_count": null,
   "metadata": {},
   "outputs": [],
   "source": []
  },
  {
   "cell_type": "code",
   "execution_count": null,
   "metadata": {},
   "outputs": [],
   "source": []
  }
 ],
 "metadata": {
  "kernelspec": {
   "display_name": "Python (ex)",
   "language": "python",
   "name": "ex"
  },
  "language_info": {
   "codemirror_mode": {
    "name": "ipython",
    "version": 3
   },
   "file_extension": ".py",
   "mimetype": "text/x-python",
   "name": "python",
   "nbconvert_exporter": "python",
   "pygments_lexer": "ipython3",
   "version": "3.6.10"
  }
 },
 "nbformat": 4,
 "nbformat_minor": 2
}
